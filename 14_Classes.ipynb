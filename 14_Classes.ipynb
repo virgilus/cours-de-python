{
 "cells": [
  {
   "cell_type": "markdown",
   "id": "ba864de7-ac23-4ca7-875c-5e6865f66182",
   "metadata": {},
   "source": [
    "# Classes"
   ]
  },
  {
   "cell_type": "markdown",
   "id": "bbf65f1b-d32a-43ba-ad41-9af9b883bf17",
   "metadata": {
    "tags": [
     "fr"
    ]
   },
   "source": [
    "📖 Le concept de classe est probablement le coeur du langage Python🐍, tout comme les autres langages orientés objet. Depuis le début de ce cours nous manipulons fréquemment des \"objets\" : des dictionnaires, des listes, des entiers, des décimaux, des string etc. Chacun de ces objets est une instance (un \"individu\") appartenant à une classe.\n",
    "\n",
    "🎯 **Il est temps désormais de créer nos propres objets !**"
   ]
  },
  {
   "cell_type": "markdown",
   "id": "40088b76-1e86-45b0-86a4-a762a1147c3f",
   "metadata": {
    "tags": [
     "fr"
    ]
   },
   "source": [
    "## Création d'une classe"
   ]
  },
  {
   "cell_type": "markdown",
   "id": "f9e81c13-21f4-424e-9022-f98a53e1ef38",
   "metadata": {},
   "source": [
    "### Convention de nommage\n",
    "\n",
    "Créons une classe qui ne fait absolument rien. Pour cela on peut utiliser le mot-clé ```pass```. Par convention le nom d'une classe s'écrit en \"camel case\", chaque mot commençant par une lettre majuscule. Par exemple :\n",
    "\n",
    "- MyClass\n",
    "- ThisIsMyVeryFirstClass"
   ]
  },
  {
   "cell_type": "code",
   "execution_count": null,
   "id": "0efd28f0-9d97-42f9-a237-11177f9a8506",
   "metadata": {},
   "outputs": [],
   "source": [
    "class VeryImportantCustomer():\n",
    "    pass"
   ]
  },
  {
   "cell_type": "markdown",
   "id": "6090a9ac-6f35-4dc1-9f21-6e301f1d323d",
   "metadata": {
    "tags": []
   },
   "source": [
    "## Instance\n",
    "\n",
    "📖 On peut voir une classe comme une sorte de \"guide\", un \"mode d'emploi\", ou encore le \"code génétique\" qui va définir et générer de nouveaux objets. Chacun de ces nouveaux objets généré à partir d'une classe est appelé une \"instance\". Il décrit donc ce qu'est l'objet et ce qu'il peut faire. Créons une instance la classe précédemment créé."
   ]
  },
  {
   "cell_type": "code",
   "execution_count": null,
   "id": "334e76b7-8924-4eaa-9f26-016f212d313d",
   "metadata": {
    "tags": []
   },
   "outputs": [],
   "source": [
    "first_customer = VeryImportantCustomer()"
   ]
  },
  {
   "cell_type": "markdown",
   "id": "4d214e62-a401-489e-a0e1-e219739a42ae",
   "metadata": {},
   "source": [
    "## Attribut d'instance\n",
    "\n",
    "Une instance peut avoir des attributs, c'est-à-dire des valeurs stockées au sein de l'objet et qui lui sont propres.\n",
    "\n",
    "👉 Donnons un nom et un prénom à notre premier client."
   ]
  },
  {
   "cell_type": "code",
   "execution_count": null,
   "id": "b6c82daf-f530-47bd-a066-2d13685d680c",
   "metadata": {},
   "outputs": [],
   "source": [
    "first_customer.name = \"John\"\n",
    "first_customer.surname = \"Doe\""
   ]
  },
  {
   "cell_type": "code",
   "execution_count": null,
   "id": "89980c18-e0f7-4f3e-8714-989d31f6180a",
   "metadata": {
    "tags": []
   },
   "outputs": [],
   "source": [
    "first_customer.name"
   ]
  },
  {
   "cell_type": "code",
   "execution_count": null,
   "id": "d95a2941-d218-47e9-8fd8-bf9bb36a3997",
   "metadata": {
    "tags": []
   },
   "outputs": [],
   "source": [
    "first_customer.surname"
   ]
  },
  {
   "cell_type": "markdown",
   "id": "fdf9c4f0-3566-4aa8-ae57-9287b46f35ca",
   "metadata": {},
   "source": [
    "## Création de plusieurs instances"
   ]
  },
  {
   "cell_type": "code",
   "execution_count": null,
   "id": "c1a5fd17-2b69-4495-8870-d03986372c26",
   "metadata": {
    "tags": []
   },
   "outputs": [],
   "source": [
    "second_customer = VeryImportantCustomer()\n",
    "second_customer.name = \"Ada\"\n",
    "second_customer.surname = \"Lovelace\""
   ]
  },
  {
   "cell_type": "code",
   "execution_count": null,
   "id": "9f820d6b-78e9-4480-b61c-b78f7b22178c",
   "metadata": {
    "tags": []
   },
   "outputs": [],
   "source": [
    "print(first_customer.name, second_customer.name)"
   ]
  },
  {
   "cell_type": "code",
   "execution_count": null,
   "id": "1941805f-56b8-4342-b182-cb56933e55f4",
   "metadata": {
    "tags": []
   },
   "outputs": [],
   "source": [
    "print(first_customer.surname, second_customer.surname)"
   ]
  },
  {
   "cell_type": "markdown",
   "id": "1de24cf3-0b37-4140-8eaf-c2ab5fcf2807",
   "metadata": {},
   "source": [
    "## Les méthodes\n",
    "\n",
    "Lorsqu'on définit une fonction dans une classe, celle-ci est appelée **\"méthode\"** et ne se comporte plus exactement comme une fonction classique.\n",
    "\n",
    "### Appeler une méthode depuis la classe\n",
    "\n",
    "Une fois qu'on a défini une méthode on peut l'appeler directement via la classe elle-même (sans créer d'instance !). C'est loin d'être le cas le plus fréquent, mais cela peut se révéler utile."
   ]
  },
  {
   "cell_type": "code",
   "execution_count": null,
   "id": "7389c035-24de-42ef-9285-7f31b79ff742",
   "metadata": {
    "tags": []
   },
   "outputs": [],
   "source": [
    "class VeryImportantCustomer():\n",
    "    def say_hello():\n",
    "        return \"Hello World!\"\n",
    "    \n",
    "VeryImportantCustomer.say_hello()"
   ]
  },
  {
   "cell_type": "markdown",
   "id": "2ad4a503-9669-4168-acb2-7096c2c03960",
   "metadata": {},
   "source": [
    "### Appeler une méthode depuis une instance\n",
    "\n",
    "Lorsqu'on appelle une méthode depuis une instance son comportement change.\n",
    "\n",
    "👉 **L'instance se passe elle-même comme premier argument à la fonction.**\n",
    "\n",
    "Ce premier argument (l'instance) est alors noté, par convention, ```self``` (ce n'est donc **pas** un mot-clé Python)."
   ]
  },
  {
   "cell_type": "code",
   "execution_count": null,
   "id": "257afea7-585d-471c-aa33-9289e401142e",
   "metadata": {
    "tags": []
   },
   "outputs": [],
   "source": [
    "class VeryImportantCustomer():\n",
    "    def say_hello(self):\n",
    "        return \"Hello World!\""
   ]
  },
  {
   "cell_type": "code",
   "execution_count": null,
   "id": "31db26bb-be93-446f-b8f5-9eb5c29ce91e",
   "metadata": {
    "tags": []
   },
   "outputs": [],
   "source": [
    "first_customer = VeryImportantCustomer()\n",
    "first_customer.say_hello()\n",
    "#VeryImportantCustomer.say_hello() # Yields an error!"
   ]
  },
  {
   "cell_type": "markdown",
   "id": "ee0bf48d-7a37-460a-ae5d-2ee7aee3c569",
   "metadata": {},
   "source": [
    "## Une méthode spéciale : le constructeur ```__init__()```\n",
    "\n",
    "Plutôt que de déterminer les attributs d'instance une fois l'instance créée (comme nous avions fait précédemment), faisons-en sorte qu'ils existent au moment même de la création de l'instance !\n",
    "\n",
    "👉 Pour cela nous allons utiliser une méthode spéciale nommée ```__init__()```. C'est dans cette fonction que l'on va déterminer tout ce qui se passe lorsque l'instance est créée.\n",
    "\n",
    "💡 Dans l'exemple suivant, remarquez que ```__init__``` prend en entrée trois arguments, mais seuls deux lui sont donnés. N'oubliez pas que le premier argument, ```self``` est l'instance elle-même.\n",
    "\n",
    "**Note :** Si on crée une classe sans méthode ```__init__()```, Python utilise un constructeur par défaut."
   ]
  },
  {
   "cell_type": "code",
   "execution_count": null,
   "id": "20c849de-d256-4a01-aa54-a04d9512d9ac",
   "metadata": {
    "tags": []
   },
   "outputs": [],
   "source": [
    "# class definition\n",
    "class VeryImportantCustomer():\n",
    "    \n",
    "    def __init__(self, name, surname):\n",
    "        self.name = name # Instance attribute\n",
    "        self.surname = surname # Instance attribute\n",
    "\n",
    "# Instanciation\n",
    "first_customer = VeryImportantCustomer('John', 'Doe') # Passing the name and surname as arguments\n",
    "\n",
    "# Verification\n",
    "print(first_customer.name, first_customer.surname)"
   ]
  },
  {
   "cell_type": "markdown",
   "id": "8ad48f66-51e2-49f0-aac8-804ecf938311",
   "metadata": {},
   "source": [
    "## Exercice\n",
    "\n",
    "❓ **>>>** Programmons ensemble un jeu de rôle !\n",
    "\n",
    "1. Écrivez une classe nommée \"Character\". Chacun de nos personnages aura les attributs suivants:\n",
    "\n",
    "- ```name```: Le nom du personnage.\n",
    "- ```life``` : Le nombre de points de vie, par défaut celui-ci est égal à 100.\n",
    "\n",
    "2. Créez une instance de cette classe, nommée ```char_1``` (et donnez-lui le nom que vous voulez).\n",
    "\n",
    "3. Imaginez que ce personnage est blessé, retirez-lui 20 points de vie."
   ]
  },
  {
   "cell_type": "code",
   "execution_count": null,
   "id": "2bd19d70-2a09-4556-b622-807fa9c7790f",
   "metadata": {},
   "outputs": [],
   "source": [
    "# Code here!\n",
    "\n"
   ]
  },
  {
   "cell_type": "markdown",
   "id": "e2cede53-1af8-4266-a9ad-9480a5edbe2d",
   "metadata": {},
   "source": [
    "## Attributs de classe\n",
    "\n",
    "📖 Une variable définie dans le corps d'une classe est appelée \"attribut de classe\". Cette variable est accessible par la classe elle-même mais aussi via n'importe quelle instance.\n",
    "\n",
    "👉 Donnons à chacun de nos clients un crédit de 10 000€ dès lors qu'ils rejoignent notre base client."
   ]
  },
  {
   "cell_type": "code",
   "execution_count": null,
   "id": "4544a7b4-cb4f-4ca5-a204-b86b7b3c8c5d",
   "metadata": {
    "tags": []
   },
   "outputs": [],
   "source": [
    "# class definition\n",
    "class VeryImportantCustomer():\n",
    "    \n",
    "    def __init__(self, name, surname):\n",
    "        self.name = name # Instance attribute\n",
    "        self.surname = surname # Instance attribute\n",
    "        \n",
    "    credit = 10_000 # Class attribute\n",
    "    \n",
    "# Displaying the Class attribute (No need to create an instance)\n",
    "print(VeryImportantCustomer.credit) \n",
    "\n",
    "# Instanciation\n",
    "first_customer = VeryImportantCustomer('John', 'Doe') # Passing the name and surname as arguments\n",
    "\n",
    "# Verification\n",
    "print(first_customer.name, first_customer.surname)\n",
    "print(first_customer.credit) # The instance can access the class attribute"
   ]
  },
  {
   "cell_type": "markdown",
   "id": "597c38e2-e30b-4244-9c54-9c0152b89b59",
   "metadata": {},
   "source": [
    "## Conversion d'attributs de classe en attributs d'instance\n",
    "\n",
    "🤓 **Rappel**:\n",
    "Les **attributs de classe** sont définis dans le corps de la classe (en dehors du constructeur ```init()```) et sont accessibles par toutes les instances alors que les **attributs d'instance** sont définis dans le ```__init__()``` de la classe et sont propres à chaque instance.\n",
    "\n",
    "### *namespace*\n",
    "\n",
    "Une des subtilités de Python est le *namespace*, c'est-à-dire un espace de noms relié à des entités. Lorsqu'on cherche à exécuter ou à accéder à une fonction ou un attribut, Python regarde d'abord si un attribut (ou une méthode) porte ce nom là dans un espace donné. Sans trop entrer dans les détails lorsqu'on accède à l'attribut d'une instance, Python va du particulier au général, il a donc :\n",
    "\n",
    "1. Regarder si c'est un **attribut d'instance** (il regarde dans le *namespace* de l'instance)\n",
    "1. S'il ne trouve pas cet attribut, il va alors regarder si un **attribut de classe** porte le même nom (il regarde dans le *namespace* de la classe).\n",
    "1. S'il ne trouve pas non plus d'attribut de classe, alors il renvoie **une erreur**.\n",
    "\n",
    "**D'où la règle suivante : 👉 Si on modifie un attribut de classe d'une instance celui-ci devient, *de facto*, un attribut d'instance !**\n",
    "\n",
    "(Il passe du *namespace* de la classe à celui de l'instance.)"
   ]
  },
  {
   "cell_type": "code",
   "execution_count": null,
   "id": "50ca86b3-003e-46d9-9009-19a78f93e1ff",
   "metadata": {
    "tags": []
   },
   "outputs": [],
   "source": [
    "# class definition\n",
    "class VeryImportantCustomer():\n",
    "    \n",
    "    def __init__(self, name, surname):\n",
    "        self.name = name # Instance attribute\n",
    "        self.surname = surname # Instance attribute\n",
    "        \n",
    "    credit = 10_000 # Class attribute\n",
    "\n",
    "# Instanciation\n",
    "first_customer = VeryImportantCustomer('John', 'Doe')\n",
    "second_customer = VeryImportantCustomer('Ada', 'Lovelace')\n",
    "\n",
    "# Verification\n",
    "print('1 - The class attribute \"credit\" has not been modified.')\n",
    "print(first_customer.credit, second_customer.credit)\n",
    "\n",
    "# Modifying the class attribute \"credit\" \n",
    "VeryImportantCustomer.credit = 5_000\n",
    "\n",
    "# Verification\n",
    "print('2 - The class attribute \"credit\" has been modified and set to 5_000.')\n",
    "print(first_customer.credit, second_customer.credit)\n",
    "\n",
    "# Modifying the credit for one instance only\n",
    "first_customer.credit = 20_000\n",
    "print('3 - The class attribute \"credit\" has been modified and set to 20_000 but only for the instance first_customer.')\n",
    "\n",
    "# Modifying again the class attribute \"credit\" \n",
    "VeryImportantCustomer.credit = 100_000\n",
    "\n",
    "# Verifications\n",
    "print('4 - The class attribute \"credit\" has been modified and set to 100_000.')\n",
    "print(first_customer.credit, second_customer.credit)"
   ]
  },
  {
   "cell_type": "markdown",
   "id": "09223870-e6e0-43a6-b37b-a180234183eb",
   "metadata": {},
   "source": [
    "🤓 Comme l'attribut de classe \"credit\" de l'instance ```first_customer``` a été modifié, il est devenu un attribut d'instance et n'est donc plus relié à l'attribut de classe, c'est une nouvelle variable."
   ]
  },
  {
   "cell_type": "markdown",
   "id": "2c0d7534-40d7-4641-b57d-9633017b6b80",
   "metadata": {},
   "source": [
    "## Utilisation de méthodes pour modifier les objets\n",
    "\n",
    "### Manipulation d'attributs dans la classe"
   ]
  },
  {
   "cell_type": "code",
   "execution_count": null,
   "id": "8d78580f-1461-461a-8bf0-0e29e70be631",
   "metadata": {
    "tags": []
   },
   "outputs": [],
   "source": [
    "class VeryImportantCustomer():\n",
    "    \n",
    "    def __init__(self, name, surname):\n",
    "        self.name = name\n",
    "        self.surname = surname\n",
    "        self.credit = 10_000\n",
    "        \n",
    "    def hello(self):\n",
    "        return f\"Hi! My name is {self.name} {self.surname}!\"\n",
    "\n",
    "# Let's call a method\n",
    "first_customer = VeryImportantCustomer('John', 'Doe')\n",
    "first_customer.hello()"
   ]
  },
  {
   "cell_type": "markdown",
   "id": "d64f1d10-e4c4-451c-a021-8ec3eee0f157",
   "metadata": {},
   "source": [
    "Vous pouvez ajouter des paramètres et passer des arguments comme d'habitude."
   ]
  },
  {
   "cell_type": "code",
   "execution_count": null,
   "id": "d752668c-4078-4276-8557-51218def4240",
   "metadata": {
    "tags": []
   },
   "outputs": [],
   "source": [
    "class VeryImportantCustomer():\n",
    "    \n",
    "    def __init__(self, name, surname):\n",
    "        self.name = name\n",
    "        self.surname = surname\n",
    "        self.credit = 10_000\n",
    "        \n",
    "    def hello(self):\n",
    "        print(f\"Hi! My name is {self.name} {self.surname}!\")\n",
    "    \n",
    "    def buy(self, price):\n",
    "        self.credit = self.credit - price\n",
    "        print(f\"After buying this object, the credit of {self.name} {self.surname} is now {self.credit}€.\")\n",
    "\n",
    "# Let's call a method\n",
    "first_customer = VeryImportantCustomer('John', 'Doe')\n",
    "first_customer.buy(7650)"
   ]
  },
  {
   "cell_type": "markdown",
   "id": "c520af72-8c15-4e1d-ab73-904c34b32b8f",
   "metadata": {},
   "source": [
    "## Membres\n",
    "\n",
    "En Python on appelle \"membres\" les attributs et les méthodes définies dans une classe. On distingue alors **les membres de classe** et **les membres d'instance** en fonction de leur appartenance."
   ]
  },
  {
   "cell_type": "markdown",
   "id": "db95a21b-d97f-40c0-aead-cbca2cc4c59c",
   "metadata": {},
   "source": [
    "# Exercice (moyen)\n",
    "\n",
    "❓ **>>>** Continuons avec notre jeu de rôle.\n",
    "\n",
    "1. Ajoutez un attribut d'instance ```stat_attack``` qui sera fixé à 40 par défaut.\n",
    "\n",
    "1. Créez une méthode nommée ```.compute_damage()``` qui calcule la valeur de l'attaque. celle-ci est aléatoire mais ne peut pas être à plus de 50% ou moins de 50% de l'attribut \"stat_attack\" de l'attaquant (donc pour une valeur de base de 40, l'attaque sera au minimum de 20 et au maximum de 60). Le résultat doit être un entier.\n",
    "\n",
    "1. Créez une méthode nommée ```attack()``` qui prend en argument un autre personnage attaqué (une autre instance). Une fois ceci fait générez la valeur de l'attaque en appelant la fonction ```.compute_damage()```, la vie de l'attaquée est alors diminuée par cette attaque.\n",
    "\n",
    "1. Si le personnage attaqué n'a plus de vie (l'attribut ```life``` égal ou inférieur à 0), indiquez-lui qu'il est mort et fixez le nombre de points de vie du personnage mort à 0.\n",
    "\n",
    "1. Si le personnage essaye d'attaquer un personnage déjà mort, indiquez au joueur que ce n'est pas possible.\n",
    "\n",
    "1. Utilisez un print pour afficher les résultats de l'attaque, en rappelant les noms des personnages attaqués et attaquants.\n",
    "\n",
    "**Exemple 1:**\n",
    "\n",
    "Mon personnage 1 attaque mon personnage 2. Le paramètre d'attaque de mon personnage 1 est de 40. La valeur générée aléatoirement est de 42. Le personnage 2 perd donc 42 points de vie, il lui en reste 58.\n",
    "\n",
    "**Exemple 2:**\n",
    "\n",
    "Mon personnage 1 attaque mon personnage 2 et lui inflige 60 de dégâts. Mon personnage 2 n'avait que 50 points de vie restants, il est donc mort. Son nombre de points de vie est de -10 mais le programme le repasse à 0. Le programme nous informe alors que le personnage 2 est mort.\n",
    "\n",
    "**Exemple 3:**\n",
    "\n",
    "Mon personnage 1 attaque mon personnage 2. Le personnage 2 a un nombre de points de vie négatif. Le programme nous informe alors que l'attaque n'est pas possible.\n",
    "\n",
    "**Astuces**:\n",
    "\n",
    "- Vous devrez sans doute importer une fonction de la librairie ```random```."
   ]
  },
  {
   "cell_type": "code",
   "execution_count": null,
   "id": "dc547135-a28e-47f2-b877-eab86b67317d",
   "metadata": {},
   "outputs": [],
   "source": [
    "# Code here!\n"
   ]
  },
  {
   "cell_type": "markdown",
   "id": "bfdc1f11-2389-4c37-a8c0-fe9068337d8d",
   "metadata": {},
   "source": [
    "## Héritage\n",
    "\n",
    "📖 L'héritage est une notion qui permet de faire en sorte que les instances héritent (ont accès) aux membres (attributs ou méthodes) d'autres classes.\n",
    "\n",
    "La classe la plus élevée est appelée classe \"mère\" (ou \"parent\"), la classe qui est bâtie sur celle-ci est désignée par classe \"fille\" (ou \"enfant\")."
   ]
  },
  {
   "cell_type": "code",
   "execution_count": null,
   "id": "1df1a99c-f906-4a21-9149-cff755c6cfd6",
   "metadata": {
    "tags": []
   },
   "outputs": [],
   "source": [
    "class Customer(): # Parent Class\n",
    "    \n",
    "    def __init__(self, name, surname):\n",
    "        self.name = name\n",
    "        self.surname = surname\n",
    "        \n",
    "class VeryImportantCustomer(Customer): # Child class\n",
    "    credit = 10_000\n",
    "    \n",
    "a_simple_customer = Customer(\"John\", \"Doe\")\n",
    "#print(a_simple_customer.credit) # Yields an error\n",
    "\n",
    "a_very_important_customer = VeryImportantCustomer(\"Ada\", \"Lovelace\")\n",
    "print(a_very_important_customer.credit)"
   ]
  },
  {
   "cell_type": "markdown",
   "id": "c0384049-e5a8-4997-b9fa-a4f5739698a5",
   "metadata": {},
   "source": [
    "## Polymorphisme\n",
    "\n",
    "📖 Le polymorphisme est un concept fondamental en programmation orientée objet (POO) qui permet à des objets de différentes classes d'être traités de manière uniforme. En Python, le polymorphisme permet de définir des méthodes qui peuvent fonctionner avec des objets de différents types, tant que ces objets partagent une interface commune.\n",
    "\n",
    "Au sens large du terme, le polymorphisme inclut :\n",
    "\n",
    "- 👉 La **redéfinition de méthodes** (*overriding*)\n",
    "- 👉 La **surcharge de fonction** (*overloading*)\n",
    "\n",
    "### Redéfinition (ou remplacement) de méthodes (*overriding*)\n",
    "\n",
    "C'est lorsqu'une méthode appartenant à une classe fille porte le même nom qu'une méthode de la classe mère. Dans ce cas-là c'est toujours la classe fille qui a la priorité (Python🐍 va du particulier au général)."
   ]
  },
  {
   "cell_type": "code",
   "execution_count": null,
   "id": "a108e762-b129-451d-be81-d58b46a87c41",
   "metadata": {},
   "outputs": [],
   "source": [
    "class Customer():\n",
    "    \n",
    "    def __init__(self, name, surname):\n",
    "        self.name = name\n",
    "        self.surname = surname\n",
    "        \n",
    "    def who_am_i(self): print(\"I am a method defined in Customer(). and I'm an instance from\", type(self))\n",
    "        \n",
    "class VeryImportantCustomer(Customer):\n",
    "    credit = 10_000\n",
    "    \n",
    "    def who_am_i(self):\n",
    "        print(\"I am a method defined in VeryImportantCustomer(). and I'm an instance from\", type(self))\n",
    "        \n",
    "a_simple_customer = Customer(\"John\", \"Doe\")\n",
    "a_simple_customer.who_am_i()\n",
    "\n",
    "####\n",
    "a_very_important_customer = VeryImportantCustomer(\"Ada\", \"Lovelace\")\n",
    "a_very_important_customer.who_am_i()"
   ]
  },
  {
   "cell_type": "markdown",
   "id": "7d501400-a370-4b8b-ad6e-6442e00af6e4",
   "metadata": {},
   "source": [
    "Ici le nom ```__main__``` signifie que la classe a été déclarée dans le script principal. Regardons un exemple d'une classe qui provient d'un fichier extérieur."
   ]
  },
  {
   "cell_type": "code",
   "execution_count": null,
   "id": "78508fda-129c-4986-aa26-1077c1a27a02",
   "metadata": {
    "tags": []
   },
   "outputs": [],
   "source": [
    "from an_other_class import AClassThatDoesNothing\n",
    "\n",
    "a = AClassThatDoesNothing()\n",
    "a.who_am_i()"
   ]
  },
  {
   "cell_type": "markdown",
   "id": "76eab270-a419-4bc7-874d-3075c6992732",
   "metadata": {},
   "source": [
    "### Appeler une méthode de la classe mère avec ```super()```\n",
    "\n",
    "La fonction ```super()``` permet d'appeler une méthode de la classe mère."
   ]
  },
  {
   "cell_type": "code",
   "execution_count": null,
   "id": "bb77b545-bcfc-461c-bedb-8ce108fb083b",
   "metadata": {
    "tags": []
   },
   "outputs": [],
   "source": [
    "class Customer():\n",
    "    \n",
    "    def __init__(self, name, surname):\n",
    "        self.name = name\n",
    "        self.surname = surname\n",
    "        \n",
    "    def buy(self): print(\"I am a method defined in Customer(). and I'm an instance from\", type(self))\n",
    "        \n",
    "class VeryImportantCustomer(Customer):\n",
    "    credit = 10_000\n",
    "    \n",
    "    def buy(self):\n",
    "        print(\"I am a method defined in VeryImportantCustomer(). and I'm an instance from\", type(self))\n",
    "        super().buy() ## Let's call the method from the mother class\n",
    "        \n",
    "a_simple_customer = Customer(\"John\", \"Doe\")\n",
    "a_simple_customer.buy()\n",
    "\n",
    "####\n",
    "a_very_important_customer = VeryImportantCustomer(\"Ada\", \"Lovelace\")\n",
    "a_very_important_customer.buy()"
   ]
  },
  {
   "cell_type": "markdown",
   "id": "0eaaeaff-ecb5-4914-a5e5-ac5b12f3db50",
   "metadata": {},
   "source": [
    "### L'utilisation de ```super()``` pour les constructeurs multiples\n",
    "\n",
    "Si on ajoute un constructeur ```__init__()```, celle-ci remplace le ```__init__()``` de la classe mère. Par exemple :"
   ]
  },
  {
   "cell_type": "code",
   "execution_count": null,
   "id": "a52c8d61-b86a-4d22-9d19-54b6a19fea51",
   "metadata": {
    "tags": []
   },
   "outputs": [],
   "source": [
    "class Customer():\n",
    "    \n",
    "    def __init__(self, name, surname):\n",
    "        self.name = name\n",
    "        self.surname = surname\n",
    "        \n",
    "class VeryImportantCustomer(Customer):\n",
    "    \n",
    "    def __init__(self, credit): # Replace the __init__ from Customer\n",
    "        self.credit = credit\n",
    "    \n",
    "a_very_important_customer = VeryImportantCustomer(50_000)\n",
    "print(a_very_important_customer.credit)\n",
    "# print(a_very_important_customer.name) # yields an error"
   ]
  },
  {
   "cell_type": "markdown",
   "id": "222a2898-46d8-4ca8-85c4-f73fd0fae0fe",
   "metadata": {},
   "source": [
    "Notez l'absence du paramètre ```self``` lors de l'appel de la méthode ```__init``` de la classe mère."
   ]
  },
  {
   "cell_type": "code",
   "execution_count": null,
   "id": "bf2a2148-3ebb-4d5c-a74f-1f4556d151c6",
   "metadata": {
    "tags": []
   },
   "outputs": [],
   "source": [
    "class Customer():\n",
    "    \n",
    "    def __init__(self, name, surname):\n",
    "        self.name = name\n",
    "        self.surname = surname\n",
    "        \n",
    "class VeryImportantCustomer(Customer):\n",
    "    \n",
    "    def __init__(self, name, surname, credit):\n",
    "        super().__init__(name, surname)\n",
    "        self.credit = credit\n",
    "    \n",
    "a_very_important_customer = VeryImportantCustomer(\"John\", \"Doe\", 50_000)\n",
    "print(a_very_important_customer.credit)\n",
    "print(a_very_important_customer.name) # Doesn't yield an error anymore"
   ]
  },
  {
   "cell_type": "markdown",
   "id": "f9a77648-3ae2-4f16-a0b7-6caffb1f31b5",
   "metadata": {},
   "source": [
    "### Surcharge de fonctions (*overloading*)\n",
    "\n",
    "Cette possibilité offerte par Python est inclus dans le polymorphisme (au sens large du terme).\n",
    "\n",
    "Il s'agit pour une fonction de retourner des résultats différents en fonction de la nature des paramètres donnés. Sa \"signature\" (les paramètres qu'elle prend en compte) change. Il n'y a pas de \"vrai\" moyen de faire cela en Python, mais on peut y arriver par des moyens détournés."
   ]
  },
  {
   "cell_type": "code",
   "execution_count": null,
   "id": "b60d8b9d-5dd6-4f40-9973-4676622287c0",
   "metadata": {},
   "outputs": [],
   "source": [
    "def add(a: int | str, b: int | str):\n",
    "    \"\"\"\n",
    "    input : either int or str\n",
    "    output:\n",
    "    - if at least one of the variable is str, then convert everything in str and concatenate, and return the result (str)\n",
    "    - if both inputs are int, then add them and return the result (int).\n",
    "    \"\"\"\n",
    "    if isinstance(a, str) or isinstance(b, str): \n",
    "        return str(a) + str(b)\n",
    "    else: return a + b"
   ]
  },
  {
   "cell_type": "markdown",
   "id": "00d0ea1b-b52a-4994-a70b-b11acbf11745",
   "metadata": {},
   "source": [
    "## Quelques fonctions utiles\n",
    "\n",
    "### La fonction ```vars```\n",
    "\n",
    "Cette fonction permet de lister tous les attributs d'une instance (mais pas les attributs de classe)."
   ]
  },
  {
   "cell_type": "code",
   "execution_count": null,
   "id": "f6cc1868-21b4-428b-92e5-f5836a6a564b",
   "metadata": {
    "tags": []
   },
   "outputs": [],
   "source": [
    "class Test:\n",
    "    def __init__(self):\n",
    "        self.one = 1\n",
    "        self.two = 2\n",
    "    three = 3\n",
    "\n",
    "my_test = Test()\n",
    "vars(my_test)"
   ]
  },
  {
   "cell_type": "markdown",
   "id": "17294be5-e8de-4587-aad1-f02b41ce7ebf",
   "metadata": {
    "tags": []
   },
   "source": [
    "### La fonction ```isistance()```\n",
    "\n",
    "Elle permet de vérifier que l'objet est bien d'un certain type, ou autrement dit, d'une certaine instance et ce en incluant les éventuelles classes mères."
   ]
  },
  {
   "cell_type": "code",
   "execution_count": null,
   "id": "4013e870-afac-4c60-af6c-c771d73ffb31",
   "metadata": {
    "tags": []
   },
   "outputs": [],
   "source": [
    "isinstance(\"7\", str)"
   ]
  },
  {
   "cell_type": "code",
   "execution_count": null,
   "id": "4c3f369f-ce9b-4ae0-ae4a-d2a5a2bc6272",
   "metadata": {
    "tags": []
   },
   "outputs": [],
   "source": [
    "isinstance(7, str)"
   ]
  },
  {
   "cell_type": "code",
   "execution_count": null,
   "id": "2d8bdfed-46be-4f6b-8b36-fd9d5fe1ebcb",
   "metadata": {
    "tags": []
   },
   "outputs": [],
   "source": [
    "isinstance(7, int)"
   ]
  },
  {
   "cell_type": "markdown",
   "id": "268ae4ee-8988-4fe9-b08b-d111b2c92918",
   "metadata": {},
   "source": [
    "Et cela fonctionne aussi avec les classes créées par l'utilisateur."
   ]
  },
  {
   "cell_type": "code",
   "execution_count": null,
   "id": "25190921-642a-45a0-984c-4750894c62f4",
   "metadata": {
    "tags": []
   },
   "outputs": [],
   "source": [
    "class Mother():\n",
    "    pass\n",
    "class Child(Mother):\n",
    "    pass\n",
    "\n",
    "an_instance_of_mother = Mother()\n",
    "an_instance_of_child = Child()\n",
    "\n",
    "print(isinstance(an_instance_of_mother, Mother)) # True\n",
    "print(isinstance(an_instance_of_mother, Child)) # False\n",
    "\n",
    "print(isinstance(an_instance_of_child, Mother)) # True\n",
    "print(isinstance(an_instance_of_child, Child)) # True"
   ]
  },
  {
   "cell_type": "markdown",
   "id": "d7341ef2-5ef3-49fa-a169-8ad21132a2b7",
   "metadata": {},
   "source": [
    "## Exercice\n",
    "\n",
    "❓ **>>>** Continuons le jeu. Créez une classe nommée \"Character\", puis deux classes nommées \"Warrior\" et \"Wizard\" qui hériteront des attributs de \"Character\".\n",
    "\n",
    "- **La classe \"Character\" définit :**\n",
    "    - En tant qu'attributs d'instance:\n",
    "        - Le nom du joueur (```name```)\n",
    "        - Ses points de vie (```life```) fixé par défaut à 100.\n",
    "        - Ses statistiques d'attaque (```stat_attack```) fixé à 40.\n",
    "\n",
    "    - Et en tant que méthodes :\n",
    "        - Une méthode ```.compute_damage()``` qui correspond aux dégâts infligés par une attaque normale.\n",
    "        - Une méthode ```.attack()``` qui régit le comportement d'une attaque vers une autre instance de la classe.\n",
    "        - Une méthode ```.duel()``` qui régit les combats.\n",
    "\n",
    "\n",
    "- **La classe \"Warrior\" définit :**\n",
    "    \n",
    "    - En tant qu'attributs d'instance\n",
    "        - Des points de vie fixé à 150.\n",
    "        - Des statistiques d'attaque fixé à 70.\n",
    "\n",
    "\n",
    "- **La classe \"Wizard\" définit :**\n",
    "\n",
    "    - En tant qu'attributs d'instance\n",
    "        - Une nouvelle statistique (```stat_magic```) fixé à 50.\n",
    "        \n",
    "    - En tant que méthodes :\n",
    "        - Une nouvelle méthode ```.compute_damage()``` qui va venir redéfinir (*overriding*) la méthode de la classe mère. Celle-ci inflige des dégâts pouvant aller de -95% à + 100% de la valeur de ```stat_magic```. Elle inflige des dégâts doublés si elle attaque une classe de type \"Warrior\".\n",
    "    \n",
    "\n",
    "**>>>** Modifiez ensuite les différentes méthodes de vos classes mères et de vos classes filles pour que le Wizard attaque avec sa nouvelle méthode ```.compute_damage()```. Puis effectuez des combats pour tester.\n"
   ]
  },
  {
   "cell_type": "code",
   "execution_count": null,
   "id": "29a32c14-f796-4f36-8961-b116e59b3980",
   "metadata": {},
   "outputs": [],
   "source": [
    "# Code here!"
   ]
  },
  {
   "cell_type": "markdown",
   "id": "90cc98fc-301f-4c92-b77c-812c93e386a1",
   "metadata": {
    "tags": []
   },
   "source": [
    "## Encapsulation\n",
    "\n",
    "En Python on veut parfois empêcher les utilisateurs de modifier directement des attributs ou d'utiliser des méthodes. En ce cas-là, on peut définir que les méthodes ou attributs sont protégés ou privées.\n",
    "\n",
    "### Membres protégés ou privés ?\n",
    "\n",
    "#### Membres protégés\n",
    "\n",
    "Ils sont toujours accessibles par la classe, mais ils sont préfixés par un ```_```. Exemple : ```_attr```. Cela signifie qu'ils ne devraient pas être modifiés par l'utilisateur mais seulement par des mécanismes internes à la classe (comme des méthodes par exemple).\n",
    "\n",
    "### Membres privés\n",
    "\n",
    "Ils sont toujours accessibles par la classe, mais ils sont préfixés par un double ```__``` (*dunder*). Exemple : ```__attr```. Cela signifie qu'ils ne devraient pas être modifiés par l'utilisateur mais seulement par des mécanismes internes à la classe (comme des méthodes par exemple)."
   ]
  },
  {
   "cell_type": "code",
   "execution_count": null,
   "id": "2b5353be-36f1-43e7-aee4-8d961519237e",
   "metadata": {
    "tags": []
   },
   "outputs": [],
   "source": [
    "class Customer():\n",
    "    \n",
    "    def __init__(self, name, surname):\n",
    "        self.name = name\n",
    "        self.surname = surname\n",
    "        \n",
    "        self._inst_attr = \"I'm a protected instance attribute.\"\n",
    "        self.__inst_attr = \"I'm a private instance attribute.  I'm harder to access (but it's not impossible).\"\n",
    "        \n",
    "    _cls_attr = \"I'm a protected class attribute.\"\n",
    "    __cls_attr = \"I'm a private class attribute. I'm harder to access (but it's not impossible).\"\n",
    "    \n",
    "    def _protected_method(self):\n",
    "        return \"I'm a protected method.\"\n",
    "    \n",
    "    def __private_method(self):\n",
    "        return \"I'm a private method! I'm harder to access (but it's not impossible).\"\n",
    "        \n",
    "a_customer = Customer(\"John\", \"Doe\")\n",
    "\n",
    "print(a_customer._inst_attr)\n",
    "# print(a_customer.__inst_attr) # yields an error\n",
    "print(a_customer._cls_attr)\n",
    "# print(a_customer.__inst_attr) # yields an error\n",
    "print(a_customer._protected_method())\n",
    "# print(a_customer.__private_method()) # yields an error\n",
    "print(\"Let's list all the functions and attributes : \\n\")\n",
    "print(dir(a_customer))"
   ]
  },
  {
   "cell_type": "markdown",
   "id": "cd7fdec7-97d5-4585-96e4-7e299ac4a0bd",
   "metadata": {},
   "source": [
    "Python a, en réalité, juste renommer les attributs et les méthodes privées. On peut toujours les appeler par ce moyen."
   ]
  },
  {
   "cell_type": "code",
   "execution_count": null,
   "id": "9ea710cb-d834-48be-ab89-7b7cfa81e538",
   "metadata": {
    "tags": []
   },
   "outputs": [],
   "source": [
    "print(a_customer._Customer__cls_attr) # doesn't yield an error\n",
    "print(a_customer._Customer__inst_attr) # doesn't yield an error\n",
    "print(a_customer._Customer__private_method()) # doesn't yield an error"
   ]
  },
  {
   "cell_type": "markdown",
   "id": "b0ae5dc8-c74d-4a08-a5b1-c71e3782d5b8",
   "metadata": {},
   "source": [
    "La modification des noms en python est en réalité destinée à s'assurer que les sous-classes ne remplace pas les méthodes privés et attributs privés des classes mères. Mais ceci n'a pas été prévu pour empêcher un accès depuis l'extérieur de ces classes. Ce n'est pas l'objet de l'encapsulation en Python."
   ]
  },
  {
   "cell_type": "markdown",
   "id": "18d24ddf-1219-44b6-a4f5-4b044f1ec8ed",
   "metadata": {},
   "source": [
    "static method\n",
    "\n",
    "1. Finalement, utilisez une boucle ```while``` et des ```if``` pour que le combat entre les deux personnages se déroule automatiquement, chacun s'attaquant à tour de rôle en créant une méthode ```.duel()``` qui gèrera automatiquement les combats.\n",
    "\n",
    "- Vous pouvez utiliser la fonction ```sleep()``` de la librairie ```time``` si vous voulez garder un peu de suspens entre les combats !"
   ]
  },
  {
   "cell_type": "code",
   "execution_count": null,
   "id": "9b8362cf-4d26-4d05-8883-303deaa17ad8",
   "metadata": {},
   "outputs": [],
   "source": [
    "## save due to static method\n",
    "\n",
    "# Solution\n",
    "\n",
    "from random import randint\n",
    "from time import sleep\n",
    "\n",
    "class Character():\n",
    "    \n",
    "    def __init__(self, name):\n",
    "        self.name = name\n",
    "        self.life = 100\n",
    "        self.stat_attack = 40\n",
    "    \n",
    "    def compute_damage(self, other_char):\n",
    "        return randint(round(self.stat_attack * 0.5), round(self.stat_attack * 1.5))\n",
    "    \n",
    "    def attack(self, other_char):\n",
    "        if other_char.life >= 0:\n",
    "            damage = self.compute_damage(other_char)\n",
    "            other_char.life -= damage\n",
    "            print(f\"\"\"\n",
    "                {self.name} attacks {other_char.name}, dealing {damage} damages.\n",
    "                {other_char.name} has now {other_char.life} life points.\"\"\")\n",
    "            \n",
    "            if other_char.life <= 0: print(f\"{other_char.name} is now dead!\")\n",
    "            \n",
    "        else: print(f\"{other_char.name} is dead. You can't attack him\")\n",
    "        sleep(1)\n",
    "        \n",
    "    def duel(self, other_char):\n",
    "        while self.life > 0 and other_char.life > 0:\n",
    "            self.attack(other_char)\n",
    "            if other_char.life > 0: other_char.attack(self)\n",
    "            \n",
    "            \n",
    "class Warrior(Character):\n",
    "    \n",
    "    def __init__(self, name):\n",
    "        super().__init__(name)\n",
    "        self.life = 150\n",
    "        self.stat_attack = 70\n",
    "        \n",
    "class Wizard(Character):\n",
    "    \n",
    "        def __init__(self, name):\n",
    "            super().__init__(name)\n",
    "            self.stat_magic = 90\n",
    "    \n",
    "        def compute_damage(self, other_char):\n",
    "            damage = randint(round(self.stat_magic * 0.05), round(self.stat_magic * 2))\n",
    "            print(\"\"\"\n",
    "                Using magic damage! \"\"\", end=\"\")\n",
    "            if isinstance(other_char, Warrior): return damage * 2\n",
    "            return damage\n",
    "            \n",
    "\n",
    "char_1 = Warrior(\"Warrior\")\n",
    "char_2 = Wizard(\"Wizard\")\n",
    "\n",
    "# We can use the duel method\n",
    "char_1.duel(char_2)"
   ]
  }
 ],
 "metadata": {
  "kernelspec": {
   "display_name": "Python 3 (ipykernel)",
   "language": "python",
   "name": "python3"
  },
  "language_info": {
   "codemirror_mode": {
    "name": "ipython",
    "version": 3
   },
   "file_extension": ".py",
   "mimetype": "text/x-python",
   "name": "python",
   "nbconvert_exporter": "python",
   "pygments_lexer": "ipython3",
   "version": "3.11.0"
  }
 },
 "nbformat": 4,
 "nbformat_minor": 5
}
