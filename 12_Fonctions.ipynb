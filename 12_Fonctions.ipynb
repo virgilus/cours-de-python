{
 "cells": [
  {
   "cell_type": "markdown",
   "metadata": {
    "tags": [
     "fr"
    ]
   },
   "source": [
    "# LES FONCTIONS\n",
    "\n",
    "🎯 Nous avons déjà utilisé de grands nombres de fonctions jusqu'à présent. Cependant en programmation il est courant de créer ses propres fonctions qui seront ainsi parfaitement adaptées à nos besoins. Python permet de faire cela très facilement en quelques lignes seulement !\n",
    "\n",
    "## Syntaxe\n",
    "\n",
    "👉 Pour cela on utilise la syntaxe suivante, qui est très similaire à celles des boucles ou des tests :\n",
    "\n",
    "- On commence par écrire le mot-clé `def`  pour faire comprendre à Python que la suite sera une fonction.\n",
    "- On écrit le nom que l'on veut lui donner.\n",
    "- On ajoute des parenthèses entre lesquels on indiquera, éventuellement, des arguments.\n",
    "- On ajoute le signe `:` pour préciser que la suite sera le contenu de la fonction\n",
    "- A n'importe quel moment de la fonction on peut lui indiquer qu'on veut qu'elle nous retourne une valeur à l'aide de l'instruction `return`. Mais ceci n'est pas obligatoire."
   ]
  },
  {
   "cell_type": "code",
   "execution_count": null,
   "metadata": {
    "tags": []
   },
   "outputs": [],
   "source": [
    "def my_first_function():\n",
    "    return \"First function!\""
   ]
  },
  {
   "cell_type": "markdown",
   "metadata": {
    "tags": [
     "fr"
    ]
   },
   "source": [
    "## Exécution\n",
    "\n",
    "🤨 Tiens ? Mais quand on l'éxecute rien ne se passe ? C'est normal, votre fonction est désormais **définie**, elle existe quelque part dans la mémoire de Python. Pour l'exécuter, il faut tout simplement l'appeler comme n'importe quelle autre fonction. Notez qu'ici le terme \"appeler\" (*call*) ne veut pas dire \"nommer\" mais exécuter."
   ]
  },
  {
   "cell_type": "code",
   "execution_count": null,
   "metadata": {
    "tags": []
   },
   "outputs": [],
   "source": [
    "my_first_function()"
   ]
  },
  {
   "cell_type": "markdown",
   "metadata": {
    "tags": [
     "fr"
    ]
   },
   "source": [
    "## Paramètres\n",
    "\n",
    "📖 Lorsqu'on définit une fonction on peut définir des paramètres en indiquant dans les parenthèses le nom de variables. La fonction suivante, qui retourne le carré d'un nombre, a un paramètre : \"x\".\n",
    "\n",
    "```python\n",
    "def square(x):\n",
    "    return x * x\n",
    "```\n",
    "\n",
    "## Arguments\n",
    "\n",
    "Exécutons la fonction en donnant au paramètre \"x\" la valeur 2:\n",
    "\n",
    "```python\n",
    "square(2)\n",
    "```\n",
    "📖 Ici **2 est l'argument de la fonction** (et \"x\" est le paramètre). L'argument va venir donner la valeur au paramètre de la fonction.\n",
    "Testons cette fonction en lui donnant différents arguments."
   ]
  },
  {
   "cell_type": "code",
   "execution_count": null,
   "metadata": {},
   "outputs": [],
   "source": [
    "def square(x):\n",
    "    return x * x\n",
    "\n",
    "print(square(2))\n",
    "print(square(7))\n",
    "print(square(9))"
   ]
  },
  {
   "cell_type": "markdown",
   "metadata": {
    "tags": [
     "fr"
    ]
   },
   "source": [
    "👉 Quand on **appelle** la fonction, c'est-à-dire qu'on l'exécute, on lui donne en entrée la valeur désirée. Cette valeur là prend ensuite la place de \"x\" dans notre fonction. Mais remarquez que nous aurions pu écrire cela et obtenir exactement les mêmes résultats :"
   ]
  },
  {
   "cell_type": "code",
   "execution_count": null,
   "metadata": {},
   "outputs": [],
   "source": [
    "def square(blablabla):\n",
    "    return blablabla * blablabla\n",
    "\n",
    "print(square(2))\n",
    "print(square(7))\n",
    "print(square(9))\n",
    "\n",
    "# We can also use a variable as argument\n",
    "n = 49\n",
    "print(square(n))"
   ]
  },
  {
   "cell_type": "markdown",
   "metadata": {
    "tags": [
     "fr"
    ]
   },
   "source": [
    "## L'instruction `return`\n",
    "\n",
    "📖 La grande majorité des fonctions comporte une ou plusieurs instructions `return`. Cette instruction gère les paramètres de sortie, elle indique donc ce qu'elle renvoie (retourne) ou, autrement dit, en quoi se \"transforme\" notre fonction. Après avoir exécuté un `return` la fonction se termine automatiquement sans exécuter les autres lignes de code.\n",
    "\n",
    "Dans l'exemple suivant la fonction retourne le carré d'un nombre si on lui donne un entier négatif. Si le nombre est compris entre 0 et 100 inclus elle retourne la valeur du nombre augmentée de 10.\n",
    "\n",
    "Autrement elle ne retourne rien, qui est un objet spécial en Python appellé `None`."
   ]
  },
  {
   "cell_type": "code",
   "execution_count": null,
   "metadata": {
    "tags": []
   },
   "outputs": [],
   "source": [
    "def square_or_plus_ten(x):\n",
    "    if x < 0: return x ** 2\n",
    "    elif x <= 100: return x + 10"
   ]
  },
  {
   "cell_type": "code",
   "execution_count": null,
   "metadata": {
    "tags": []
   },
   "outputs": [],
   "source": [
    "square_or_plus_ten(-4)"
   ]
  },
  {
   "cell_type": "code",
   "execution_count": null,
   "metadata": {
    "tags": []
   },
   "outputs": [],
   "source": [
    "square_or_plus_ten(50)"
   ]
  },
  {
   "cell_type": "code",
   "execution_count": null,
   "metadata": {
    "tags": []
   },
   "outputs": [],
   "source": [
    "square_or_plus_ten(400)"
   ]
  },
  {
   "cell_type": "markdown",
   "metadata": {
    "tags": [
     "fr"
    ]
   },
   "source": [
    "## Paramètres multiples\n",
    "\n",
    "📖 On peut donner différents paramètres à une fonction en les séparant par une virgule. Par exemple la fonction suivante retourne différents nombres multipliés entre eux :"
   ]
  },
  {
   "cell_type": "code",
   "execution_count": null,
   "metadata": {},
   "outputs": [],
   "source": [
    "def mult(a, b, c):\n",
    "    return a * b * c\n",
    "\n",
    "mult(3, 4, 5)"
   ]
  },
  {
   "cell_type": "markdown",
   "metadata": {
    "tags": [
     "fr"
    ]
   },
   "source": [
    "## Arguments par défaut\n",
    "\n",
    "📖 Si l'utilisateur ne spécifie pas d'arguments, on peut en définir la valeur par défaut du paramètre en utilisant le signe `=`, rendant ainsi, *de facto*, cet argument facultatif.\n",
    "\n",
    "❗️Les paramètres ayant des arguments par défaut doivent être déclarés **après** les paramètres obligatoires.\n",
    "\n",
    "**Remarque** : Par convention on ne met pas d'espace de part et d'autre de l'opérateur égal dans la définition d'une fonction ou bien lorsqu'on l'appelle (PEP8).\n",
    "\n",
    "Ex:"
   ]
  },
  {
   "cell_type": "code",
   "execution_count": null,
   "metadata": {
    "tags": []
   },
   "outputs": [],
   "source": [
    "def multiply_by_10(x=10):\n",
    "    return x * 10\n",
    "\n",
    "print(multiply_by_10())\n",
    "print(multiply_by_10(5))\n",
    "print(multiply_by_10(23))\n",
    "print(multiply_by_10())"
   ]
  },
  {
   "cell_type": "markdown",
   "metadata": {
    "tags": [
     "fr"
    ]
   },
   "source": [
    "## Arguments mots-clés (*keyword*) vs Arguments positionnels\n",
    "\n",
    "Lorsqu'on **appelle une fonction**, on peut donner les arguments aux différents paramètres :\n",
    "\n",
    "- 👉 Soit en les appelant dans l'ordre dans lequel ils ont été déclarés dans la fonction : **Argument positionnel**.\n",
    "- 👉 Soit en les appelant par leur nom : **Argument \"mot-clé\" (*keyword*)**.\n",
    "- 👉 Soit en mélangeant ces deux méthodes. Dans ce cas, il faut toujours **commencer par les arguments positionnels** puis appeler les arguments *keywords*."
   ]
  },
  {
   "cell_type": "code",
   "execution_count": null,
   "metadata": {
    "tags": []
   },
   "outputs": [],
   "source": [
    "def multiply(a, b, text):\n",
    "    return text + str(a * b)\n",
    "\n",
    "# 1 - Only positional arguments\n",
    "print(multiply(6, 2, \"Results = \"))\n",
    "\n",
    "# 2 - Only keywords arguments\n",
    "print(multiply(text=\"Results = \", b=6, a=2))\n",
    "\n",
    "# 3 - Both methods\n",
    "print(multiply(2, text=\"Results = \", b=6))"
   ]
  },
  {
   "cell_type": "markdown",
   "metadata": {
    "tags": [
     "fr"
    ]
   },
   "source": [
    "## Portée globale et locale des variables\n",
    "\n",
    "La portée (*scope*) d'une variable  détermine si une fonction a accès à cette variable ou pas.\n",
    "Toutes les variables crées dans le corps principal du script sont dites \"globales\" et peuvent être utilisées par toutes les fonctions.\n",
    "\n",
    "Une variable \"locale\", quant à elle, est une variable créée dans une fonction. Elle est automatiquement détruite lorsque la fonction a fini d'être exécutée."
   ]
  },
  {
   "cell_type": "code",
   "execution_count": null,
   "metadata": {
    "tags": []
   },
   "outputs": [],
   "source": [
    "global_variable = \"aaa\"\n",
    "\n",
    "def test():\n",
    "    \n",
    "    local_variable = \"bbb\"\n",
    "    return global_variable + local_variable\n",
    "\n",
    "test()\n",
    "# Next line will yield an error :\n",
    "# print(local_variable)"
   ]
  },
  {
   "cell_type": "markdown",
   "metadata": {
    "tags": [
     "fr"
    ]
   },
   "source": [
    "## Indication de type (*Type Hint*)\n",
    "\n",
    "En Python, une indication de type ou *type hint* est une fonctionnalité qui permet de spécifier les types attendus pour les arguments de fonction et les valeurs de retour. Les *type hints* ne sont pas utilisés par Python lors de l'exécution, mais ils servent de documentation et peuvent être utilisés par des outils de vérifications ou des IDE pour détecter de potentielles erreurs.\n",
    "\n",
    "Pour ajouter une indication de type, utilisez \":\" après votre paramètre. Vous pouvez utiliser le pipe ```|``` pour ajouter plusieurs types.\n",
    "\n",
    "**Remarque** : Pour accéder aux fonctionnalités avancées des *type hint*, on peut utiliser la librairie ```typing```."
   ]
  },
  {
   "cell_type": "code",
   "execution_count": null,
   "metadata": {
    "tags": []
   },
   "outputs": [],
   "source": [
    "def add(a: int, b: int | float) -> str:\n",
    "    return f\"The result is : {a + b}\""
   ]
  },
  {
   "cell_type": "markdown",
   "metadata": {
    "tags": [
     "fr"
    ]
   },
   "source": [
    "## ```*args``` et ```**kwargs```\n",
    "\n",
    "En Python, ```*args``` et ```**kwargs``` sont utilisés pour passer un nombre variable d'arguments à une fonction. Ils permettent de définir des fonctions qui peuvent accepter un nombre indéfinis d'arguments positionnels et *keyword*. Ces noms sont simplement des conventions, ils ne sont pas des mots-clés réservés de Python.\n",
    "\n",
    "### *args\n",
    "\n",
    "Il est utilisé pour passer un nombre variable d'arguments positionnels à une fonction. Les arguments sont passés sous forme de tuple.\n"
   ]
  },
  {
   "cell_type": "code",
   "execution_count": null,
   "metadata": {
    "tags": []
   },
   "outputs": [],
   "source": [
    "def demo_args(*args):\n",
    "    return args\n",
    "\n",
    "demo_args(2, 3, 4, 12)"
   ]
  },
  {
   "cell_type": "markdown",
   "metadata": {
    "tags": [
     "fr"
    ]
   },
   "source": [
    "### ```**kwargs```\n",
    "\n",
    "```**kwargs``` est utilisé pour passer un nombre variable d'arguments *keyword* à une fonction. Les arguments sont passés sous forme de dictionnaire."
   ]
  },
  {
   "cell_type": "code",
   "execution_count": null,
   "metadata": {
    "tags": []
   },
   "outputs": [],
   "source": [
    "def demo_kwargs(**kwargs):\n",
    "    return kwargs\n",
    "\n",
    "demo_kwargs(a=2, b=3, c=4, d=12)"
   ]
  },
  {
   "cell_type": "code",
   "execution_count": null,
   "metadata": {
    "tags": []
   },
   "outputs": [],
   "source": [
    "# And you mix both of course!\n",
    "\n",
    "def demo_args_and_kwargs(*args, **kwargs):\n",
    "    return args, kwargs\n",
    "\n",
    "demo_args_and_kwargs(100, 101, 102, \"banana\", a=2, b=3, c=4, d=12)"
   ]
  },
  {
   "cell_type": "markdown",
   "metadata": {
    "tags": [
     "fr"
    ]
   },
   "source": [
    "## Signature\n",
    "\n",
    "En Python, la signature d'une fonction fait référence à la définition d'une fonction, y compris son nom, ses paramètres, les indications de type (*type hint*) et toute valeur par défaut pour ces paramètres. La signature de la fonction offre une manière claire et concise de comprendre quelles entrées une fonction attend et comment elle doit être appelée. Par exemple :\n",
    "\n",
    "```python\n",
    "add(a: int, b: int | float) -> str\n",
    "```"
   ]
  },
  {
   "cell_type": "markdown",
   "metadata": {
    "tags": [
     "fr"
    ]
   },
   "source": [
    "### Exercice (facile)\n",
    "\n",
    "❓ **>>>** Écrivez une fonction nommée `convert()` qui convertit des degrés celsius en degrés fahrenheit et vice-versa. Elle prend en entrée deux arguments :\n",
    "\n",
    "- Une valeur (int ou float).\n",
    "- L'unité de cette valeur, est-elle un degré celsius ou fahrenheit ? Vous pouvez utiliser les lettres \"C\" ou \"F\" pour désigner chacune des unités.\n",
    "\n",
    "Le programme vous retourne alors la valeur convertie dans l'unité où elle n'est pas.\n",
    "\n",
    "Pour rappel :\n",
    "\n",
    "- température Fahrenheit = (température Celsius x 9/5) + 32\n",
    "\n",
    "- température Celsius = (température Fahrenheit - 32) × 5/9"
   ]
  },
  {
   "cell_type": "code",
   "execution_count": null,
   "metadata": {},
   "outputs": [],
   "source": [
    "# Code here!\n",
    "\n"
   ]
  },
  {
   "cell_type": "markdown",
   "metadata": {
    "tags": [
     "fr"
    ]
   },
   "source": [
    "## Exercices : consignes globales\n",
    "\n",
    "Pour la série d'exercices suivants n'écrivez pas de messages d'erreur. Faites au plus simple, il n'y aura besoin que d'un seul argument et une ou deux instructions `return` pour résoudre chacun de ces problèmes."
   ]
  },
  {
   "cell_type": "markdown",
   "metadata": {
    "tags": [
     "fr"
    ]
   },
   "source": [
    "## Exercice - `Max()` (moyen)\n",
    "\n",
    "❓ **>>>** La fonction `max()` de python renvoie la valeur la plus élevée de certains objets, comme les listes par exemple. Par exemple :"
   ]
  },
  {
   "cell_type": "code",
   "execution_count": null,
   "metadata": {
    "tags": []
   },
   "outputs": [],
   "source": [
    "arr = [5, 8, 1, 6, 9, 12]\n",
    "max(arr)"
   ]
  },
  {
   "cell_type": "markdown",
   "metadata": {
    "tags": [
     "fr"
    ]
   },
   "source": [
    "Reprogrammez-la en utilisant des tests et des boucles. Nommez-la `max2()`."
   ]
  },
  {
   "cell_type": "code",
   "execution_count": null,
   "metadata": {},
   "outputs": [],
   "source": [
    "def max2(arr):\n",
    "    \n",
    "    pass # delete the pass instructions and code here!\n",
    "\n",
    "    #return"
   ]
  },
  {
   "cell_type": "code",
   "execution_count": null,
   "metadata": {},
   "outputs": [],
   "source": [
    "# Use this cell to check if your function works\n",
    "\n",
    "nombres = [5,8,1,6,9,12]\n",
    "if max(nombres) == max2(nombres): print(\"Bravo !\")"
   ]
  },
  {
   "cell_type": "markdown",
   "metadata": {
    "tags": [
     "fr"
    ]
   },
   "source": [
    "## Exercice (moyen) - `.isdigit()`\n",
    "\n",
    "❓ **>>>** Vous vous souvenez de la méthode `.isdigit()` ? Celle-ci permet de savoir si une chaîne de caractère ne contient que des chiffres. Recreéez-la sous forme de fonction.\n",
    "\n",
    "**ASTUCES**:\n",
    "\n",
    "- Votre fonction doit retourner `True` ou `False`\n",
    "- Une fonction peut tout à fait comporter plusieurs `return`, mais dès qu'elle en exécute un elle s'arrête immédiatement. Utilisez ce comportement à votre avantage !\n",
    "- Vous pouvez utiliser `not` pour raccourcir un peu votre code."
   ]
  },
  {
   "cell_type": "code",
   "execution_count": null,
   "metadata": {},
   "outputs": [],
   "source": [
    "def isdigit2(text):\n",
    "    \n",
    "    digits = '0123456789'\n",
    "        \n",
    "    # return"
   ]
  },
  {
   "cell_type": "code",
   "execution_count": null,
   "metadata": {},
   "outputs": [],
   "source": [
    "if isdigit2(\"5364\") == \"5364\".isdigit(): print(\"Bravo !\")\n",
    "if isdigit2(\"5A364a\") == \"5A364a\".isdigit(): print(\"Bravo !\") "
   ]
  },
  {
   "cell_type": "markdown",
   "metadata": {
    "tags": [
     "fr"
    ]
   },
   "source": [
    "## Exercice - Médiane (moyen/difficile)\n",
    "\n",
    "❓ **>>>** Créez une fonction nommée `med()` qui calcule la médiane d'une suite d'entiers stockée dans une liste.\n",
    "\n",
    "**RAPPEL:**\n",
    "\n",
    "La médiane d'un distribution est une valeur x qui permet de couper l'ensemble des valeurs en deux parties égales : mettant d'un côté une moitié des valeurs, qui sont toutes inférieures ou égales à x et de l'autre côté l'autre moitié des valeurs, qui sont toutes supérieures ou égales à x.\n",
    "\n",
    "Si le nombre de valeurs de la distribution est paire, la médiane est la moyenne des deux valeurs centrales.\n",
    "\n",
    "**ASTUCES**\n",
    "\n",
    "- On peut donner une liste comme argument à la fonction `sorted()` pour la classer par ordre croissant.\n",
    "- Convertir un `float` en `int` ne prend que la partie entière d'un nombre. Par exemple `8.5` converti en entier devient alors `8`. Cela peut se révéler pratique dans le cas où cet entier doit être utilisé comme index d'une liste.\n",
    "- Il y a deux cas de figure : soit le nombre d'éléments de la suite est paire, soit il est impaire."
   ]
  },
  {
   "cell_type": "code",
   "execution_count": null,
   "metadata": {},
   "outputs": [],
   "source": [
    "def med(arr):\n",
    "    \n",
    "    pass # delete the pass instruction and code here!\n",
    "    # return"
   ]
  },
  {
   "cell_type": "code",
   "execution_count": null,
   "metadata": {
    "tags": []
   },
   "outputs": [],
   "source": [
    "# Use this cell to check if your function works\n",
    "import numpy as np\n",
    "\n",
    "a = [172.67,3,78,-67, 8900, 8, 19, 9, 89]\n",
    "\n",
    "print(f\"Result with med(): {med(a)}\")\n",
    "print(f\"Result with numpy.median(): {np.median(a)}\")\n",
    "if med(a) == np.median(a) : print (\"Bravo !\")\n",
    "else: print(\":(\")"
   ]
  },
  {
   "cell_type": "markdown",
   "metadata": {
    "tags": [
     "fr"
    ]
   },
   "source": [
    "## Exercice - Mode (difficile)\n",
    "\n",
    "❓ **>>>** La valeur modale est la valeur la plus présente dans une distribution. Prenons par exemple la suite suivante : `[2, 3, 3, 5, -1, 3, 12, 3]`\n",
    "\n",
    "Sa valeur modale est \"3\", car elle y est présente 4 fois. Ce nombre, 4, s'appelle aussi l'effectif de la valeur modale.\n",
    "\n",
    "Une distribution peut avoir plusieurs modes puisqu'il peut y avoir une égalité entre les valeurs les plus présentes. Par exemple la suite `[17, 34, 34, 42, 42]` a deux valeurs modales : 34 et 42 (et l'effectif de ces deux valeurs modales est 2).\n",
    "\n",
    "**Sans utiliser la fonction `max()` ou `count()`**, écrire une fonction nommée `mode()` qui renvoie la ou les valeurs modales avec l'effectif qui y est associé. La fonction doit donc renvoyer deux objets : une liste contenant le ou les valeurs modales et un nombre correspondant à l'effectif de cette valeur ou de ces valeurs. Exemple :\n",
    "\n",
    "```python\n",
    "mode([2, 3, 19, 2, 1, 0, -7, 2])\n",
    ">>> ([2], 3)\n",
    "```\n",
    "```python\n",
    "mode([7, 8, 9, 8, 9])\n",
    ">>> ([8, 9], 2)\n",
    "```\n",
    "**ASTUCES**\n",
    "\n",
    "- L'utilisation d'un dictionnaire est une bonne idée.\n",
    "- L'une des solutions à cet exercice peut vous amener à manipuler des nombres infinis, en ce cas on peut utiliser `float('inf')` ou `float('-inf')`.\n",
    "- `sorted()` peut là encore être utilisé."
   ]
  },
  {
   "cell_type": "code",
   "execution_count": null,
   "metadata": {},
   "outputs": [],
   "source": [
    "def mode(seq):\n",
    "    \n",
    "    pass # delete this instruction and code here!\n",
    "    \n",
    "    # return"
   ]
  },
  {
   "cell_type": "code",
   "execution_count": null,
   "metadata": {
    "tags": []
   },
   "outputs": [],
   "source": [
    "# Use this cell to check if your function works\n",
    "\n",
    "from scipy import stats\n",
    "from statistics import multimode\n",
    "\n",
    "b = [50, 70, 80, 90, 70, 60, 50, 60, 40, 30, 30, 80, 120, 150, 50, 60, 80, 90, 60, 30, 60, 70, 90, 90, 90, 50, 50]\n",
    "\n",
    "res_mode = mode(b)\n",
    "res_stats_multimode = sorted(multimode(b)), stats.mode(b, keepdims=True)[1][0]\n",
    "print(f\"Result with mode() = {res_mode}\")\n",
    "print(f\"Result with multimode() and stats.mode() = {res_stats_multimode}\")\n",
    "if res_mode == res_stats_multimode: print(\"Bravo !\")\n",
    "else: print(\":(\")"
   ]
  },
  {
   "cell_type": "markdown",
   "metadata": {
    "tags": [
     "fr"
    ]
   },
   "source": [
    "## Exercice - Calcul de la pluviométrie (difficile)\n",
    "\n",
    "❓ **>>>** Écrivez une fonction qui prend une liste d'entiers positifs, représentant chacun la hauteur d'un bâtiment, et détermine ensuite le volume maximum d'eau qui peut être contenu dans cette structure. Par exemple la liste `[5,0,4,2,0,3]` peut être représentée sous cette forme :\n",
    "\n",
    "```\n",
    "___               \n",
    "| |   ___         \n",
    "| |   | |      ___\n",
    "| |   | |___   | |\n",
    "| |   |    |   | |\n",
    "| |___|    |___| |\n",
    "```\n",
    "\n",
    "Le premier bâtiment s'étend sur 5 étages, soit 5 lignes, puisque sa hauteur est de 5. Le second est plat puisque sa hauteur est de 0 etc.\n",
    "Par convention la largeur de chaque bâtiment est de 1 (même si graphiquement cette largeur est représentée par une suite de 3 caractères).\n",
    "\n",
    "En imaginant qu'il se mette à pleuvoir sur cette \"ville\", alors l'eau va commencer à s'accumuler et former des poches entre les deux plus grands bâtiments de part et d'autre :\n",
    "\n",
    "```\n",
    "___               \n",
    "| |   ___         \n",
    "| |+++| |      ___\n",
    "| |+++| |±±±+++| |\n",
    "| |+++|    |+++| |\n",
    "| |±±±|    |±±±| |\n",
    "```\n",
    "\n",
    "Ici, graphiquement, chaque groupe de trois +++ représente un volume d'eau. On constate donc que cette \"ville\" peut contenir 8 volumes d'eau. C'est ce résultat, le nombre de volumes d'eau, que la fonction devra retourner.\n",
    "\n",
    "**ASTUCE**:\n",
    "\n",
    "- Le coeur de la résolution de cette énigme tient en deux lignes de code. Une boucle `for` et une instruction.\n",
    "\n",
    "Exemples:\n",
    "- Input: `[1, 2, 1, 2]`\n",
    "- Output: `1`\n",
    "- Input: `[5, 0, 4, 2, 0, 3]`\n",
    "- Output: `8`\n",
    "- Input: `[0, 2, 4, 0, 2, 1, 2, 6]`\n",
    "- Output: `11`\n",
    "- Input: `[10, 0, 1, 2, 0, 12]`\n",
    "- Output: `37`\n",
    "- Input: `[0, 0, 12, 4, 0, 5, 15, 2, 4, 7, 0, 3, 6, 2, 2, 2, 2, 4]`\n",
    "- Output: `52`"
   ]
  },
  {
   "cell_type": "code",
   "execution_count": null,
   "metadata": {
    "tags": []
   },
   "outputs": [],
   "source": [
    "def compute_water_qty(seq):\n",
    "    water_qty_total = 0\n",
    "    # Code here!\n",
    "\n",
    "    return water_qty_total"
   ]
  },
  {
   "cell_type": "code",
   "execution_count": null,
   "metadata": {
    "tags": []
   },
   "outputs": [],
   "source": [
    "# use this cell to check if your function works\n",
    "\n",
    "test = {\"1\":[[1, 2, 1, 2], 1],\n",
    "        \"2\":[[5, 0, 4, 2, 0, 3], 8],\n",
    "        \"3\":[[0, 2, 4, 0, 2, 1, 2, 6], 11],\n",
    "        \"4\":[[10, 0, 1, 2, 0, 12], 37],\n",
    "        \"5\":[[0, 0, 12, 4, 0, 5, 15, 2, 4, 7, 0, 3, 6, 2, 2, 2, 2, 4], 52]}\n",
    "\n",
    "for k, v in test.items():\n",
    "    if compute_water_qty(v[0]) == v[1]: print(f\"Test {k} : Succès\")\n",
    "    else: print(f\"Test {k} : Echec\")"
   ]
  },
  {
   "cell_type": "markdown",
   "metadata": {
    "tags": [
     "fr"
    ]
   },
   "source": [
    "## Exercice - Tri rapide (difficile)\n",
    "\n",
    "❓ **>>>** Une fonction peut tout à fait être récursive, c'est-à-dire s'appeller elle-même lorsqu'elle s'exécute. Utilisez cette propriété afin d'écrire une fonction récursive nommée `quicksort()` qui pourra effectuer un tri rapide sur une liste.\n",
    "\n",
    "Le programme prendra en entrée une liste de nombre non triée et produira en sortie une liste de nombre classé par ordre croissant.\n",
    "\n",
    "Afin de réaliser un tri rapide, il va nous falloir décomposer cette liste en trois différents groupes à partir d'un nombre \"pivot\".\n",
    "\n",
    "Concrètement, après avoir choisi un nombre pivot de départ (ce peut être le premier de la liste, le dernier, celui au milieu, un nombre aléatoire etc.), générez trois nouveaux groupes que nous stockerons dans des listes :\n",
    "\n",
    "- **\"left\"**: dans laquelle vous placerez tous les nombres inférieurs à notre nombre pivot.\n",
    "- **\"middle\"**: dans laquelle vous placerez les nombres égaux à notre nombre pivot.\n",
    "- **\"right\"**: dans laquelle vous placerez tous les nombres supérieurs à notre nombre pivot.\n",
    "\n",
    "Concaténez ensuite ces listes dans cet ordre précis : `left + middle + right` pour avoir la liste finale classée. Cependant, à part pour le ou les éléments de la liste \"middle\", qui seront forcément bien placés, il est peu probable que cela soit le cas pour les autres groupes. Il faudra donc réappliquer la fonction récursivement sur les listes `left` et `right` afin de les classer elles aussi.\n",
    "\n",
    "Lorsqu'il n'y a plus qu'un seul élément à traiter dans la liste, retournez simplement la liste.\n",
    "\n",
    "Exemple visuel avec un tri rapide *quick sort* qui prend pour pivot le dernier nombre. Cependant il est plus commun de prendre le milieu de liste.\n",
    "\n",
    "![](files/quicksort.png)"
   ]
  },
  {
   "cell_type": "code",
   "execution_count": null,
   "metadata": {},
   "outputs": [],
   "source": [
    "def quicksort(arr):\n",
    "    pass # Delete the \"pass\" and start coding!\n",
    "    \n",
    "    #return\n"
   ]
  }
 ],
 "metadata": {
  "kernelspec": {
   "display_name": "Python 3 (ipykernel)",
   "language": "python",
   "name": "python3"
  },
  "language_info": {
   "codemirror_mode": {
    "name": "ipython",
    "version": 3
   },
   "file_extension": ".py",
   "mimetype": "text/x-python",
   "name": "python",
   "nbconvert_exporter": "python",
   "pygments_lexer": "ipython3",
   "version": "3.12.0"
  }
 },
 "nbformat": 4,
 "nbformat_minor": 4
}
