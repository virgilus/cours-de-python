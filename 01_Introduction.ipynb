{
 "cells": [
  {
   "cell_type": "markdown",
   "metadata": {
    "tags": [
     "fr"
    ]
   },
   "source": [
    "# INTRODUCTION GÉNÉRALE"
   ]
  },
  {
   "cell_type": "markdown",
   "metadata": {
    "tags": []
   },
   "source": [
    "<center><img src=\"files/logo_python.png\" width=\"55%\"/></center>"
   ]
  },
  {
   "cell_type": "markdown",
   "metadata": {
    "tags": [
     "fr"
    ]
   },
   "source": [
    "## Présentation du cours\n",
    "\n",
    "Bienvenue dans ce cours d'initiation à la programmation et à l'utilisation du langage Python 🐍.\n",
    "\n",
    "👉 Dans ce premier notebook nous présenterons les grands principes nécessaires à la compréhension et à l'éxecution des exercices qui vont suivre. Certains aspects, comme les sytèmes binaires et héxadécimaux, ne sont pas obligatoires pour apprendre à programmer mais font partie de la culture générale indispensable pour qui s'intéresse à ces sujets. L'ensemble des fichiers de ce cours sont actualisés régulièrement et disponibles sur github à l'adresse suivante :\n",
    "\n",
    "[cours de python sur github](http://github.com/virgilus/cours-de-python)\n",
    "\n",
    "👉 N'hésitez pas à m'aider à corriger les erreurs, coquilles et approximations via une *merge request*.\n",
    "\n",
    "**Petite Astuce** : Si vous lisez ce document sous jupyter lab/notebook et double-cliquez sur le texte, vous rentrerez alors en mode édition. Cliquez sur la bouton \"play\" en dessous de l'onglet ou bien appuyez sur maj+entrée pour remettre la cellule dans son état normal."
   ]
  },
  {
   "cell_type": "markdown",
   "metadata": {
    "tags": [
     "fr"
    ]
   },
   "source": [
    "## Qu'est-ce que la programmation ?\n",
    "\n",
    "**la programmation, aussi appelé \"coding\" est ce qui permet d'écrire des programmes informatiques, c'est-à-dire de donner des instructions à un ordinateur.**"
   ]
  },
  {
   "cell_type": "markdown",
   "metadata": {
    "tags": [
     "fr"
    ]
   },
   "source": [
    "# Les principaux composants d'un ordinateur (le \"*hardware*\")\n",
    "\n",
    "Lorsqu'on programme en **Python** il est inutile de connaître en détail le fonctionnement d'un ordinateur, et ceci est d'autant plus vrai lorsqu'on utilise un langage  comme Python qui est un langage dit de \"haut niveau\" et a été conçu pour que l'utilisateur ait à se soucier le moins possible de toutes les contraintes techniques.\n",
    "\n",
    "Il est toutefois nécessaire de connaître un certain nombre de choses sur les ordinateurs afin de comprendre les messages d'erreurs renvoyés par les différents outils que nous allons utiliser mais aussi afin de se familiariser avec le vocabulaire de l'informatique.\n",
    "\n",
    "Un ordinateur fonctionne en utilisant un grand nombre de composants électroniques qui communiquent entre eux : certains sont nécessaires et d'autres ne sont qu'optionnels."
   ]
  },
  {
   "cell_type": "markdown",
   "metadata": {
    "tags": [
     "fr"
    ]
   },
   "source": [
    "## Le processeur (CPU)\n",
    "\n",
    "<div>\n",
    "<img src=\"files/cpu.jpg\" alt=\"CPU\" width=\"400\" align='left'/> </div> Le processeur est le composant d'un ordinateur qui execute des opérations logiques. Chaque processeur possède une horloge (clock en anglais) qui bat à une certaine fréquence et que l'on mesure en Giga Hertz (GHz), par exemple un processeur de 2,6 GHz dispose d'une horloge interne battant 2.6 milliards de fois par seconde. Chaque battement représente une opportunité pour le processeur de manipuler un nombre de bits (32 bits ou 64 bits). Pour l'instant retenons qu'un bit est une unité qui peut prendre la valeur 0 ou 1.\n",
    "\n",
    "Auparavant on comparait la puissance des processeurs en regardant leur fréquence mais cela est moins vrai de nos jours depuis que les processeurs disposent de plusieurs \"coeurs\" (*cores*) leur permettant d'éxecuter plusieurs opérations simultanément et démultipliant ainsi leur puissance de calcul. Certaines architectures ainsi que certaines techniques, comme \"*l'hyperthreading*\" qui permet à une puce d'exécuter deux sous-processus, jouent énormément dans les performances finales que peut atteindre un processeur.\n",
    "\n",
    "À l'heure actuelle la plupart des particuliers utilisent des ordinateurs équipés de processeurs 64 bits disposant de 4 à 8 coeurs et dont la fréquence est le plus souvent comprise entre 1.5 et 3 Ghz.\n",
    "\n",
    "Plus un processeur est utilisé, plus il chauffe. Pour dissiper cette chaleur il faut ajouter un radiateur et un ventilateur dessus afin que sa température reste à un niveau acceptable (entre 70°C et 100°C selon les modèles)."
   ]
  },
  {
   "cell_type": "markdown",
   "metadata": {
    "tags": [
     "fr"
    ]
   },
   "source": [
    "## La mémoire vive (RAM)\n",
    "\n",
    "<img src=\"files/ram.jpg\" alt=\"CPU\" width=\"400\" align=\"left\"/>\n",
    "\n",
    "Afin que le processeur puisse effectuer des opérations sur des données celles-ci sont d'abord stockées dans une mémoire intermédiaire dite \"mémoire vive\" ou \"mémoire à accès direct\" (RAM, \"*Random Access Memory*\"). Celle-ci se remplit et se vide en fonction des traitements demandés par l'utilisateur. Elle est dite \"volatile\" car une fois l'ordinateur éteint elle s'efface complètement.\n",
    "\n",
    "Un ordinateur dispose en général d'un à quatre emplacements pour y insérer des barrettes de RAM. Il est préférable que celles-ci soient de même modèle et de même capacité afin d'optimiser la rapidité de l'ordinateur. La capacité totale (CT) des ordinateurs actuels est généralement comprise entre 8 et 32 (Giga octect) de RAM. Il est assez aisé de changer la RAM sur la plupart des ordinateurs."
   ]
  },
  {
   "cell_type": "markdown",
   "metadata": {
    "tags": [
     "fr"
    ]
   },
   "source": [
    "## Le disque dur (HDD ou SSD)\n",
    "\n",
    "<img src=\"files/hdd-ssd.jpg\" alt=\"HDD-SSD\" width=\"400\" align=\"left\"/>\n",
    "\n",
    "Le disque dur est la \"mémoire morte\" de l'ordinateur, c'est-à-dire, celle qui conserve les données une fois le disque dur éteint. Jusqu'à récemment la grande majorité des disques durs étaient des HDD *(Hard Disk Drive)*, à gauche sur l'image. Ce sont des disques durs dont la technologie s'apparente aux vinyles ou aux CD-ROM : plusieurs plateaux (disques) tournent à l'intérieur et sont lus par des têtes de lecture. \n",
    "\n",
    "Depuis quelques années ces disques durs sont progressivement remplacés par des SSD *(Solid-State Drive)*, à droite sur la photo, qui fonctionnent plutôt comme des clés USB, c'est-à-dire que les données sont stockées dans des composants de mémoire électroniques mais ne sont pas effacées lors de la mise hors-tension du disque. Ces disques sont généralement beaucoup plus rapides, mais sont également plus chers à l'achat que les HDD pour la même capacité. Avec le développement des technologies de stockage de type \"cloud\" et le *streaming* de flux audio et vidéos, les utilisateurs ont tendance à moins stocker de données sur leurs disques durs, il n'est pas obligatoire d'avoir une grande capacité de stockage pour pouvoir utiliser toutes les fonctions de base d'un ordinateur.\n",
    "\n",
    "Globalement la capacité de stockage a énormément augmenté ces dernières années. De quelques Mo dans les années 80, les disques durs HDD vendus dans le commerce en ce moment atteignent souvent la taille de 4 To (Téra octet) soit 4 millions de Mo."
   ]
  },
  {
   "cell_type": "markdown",
   "metadata": {
    "tags": [
     "fr"
    ]
   },
   "source": [
    "## La carte graphique (GPU)\n",
    "\n",
    "<img src=\"files/gpu.jpg\" alt=\"gpu\" width=\"400\" align=\"left\" title=\"Par Advanced Micro Devices, Inc. (AMD), Attribution, https://commons.wikimedia.org/w/index.php?curid=8480474\"/>\n",
    "\n",
    "La carte graphique (GPU pour *Graphical Processing Unit*) est une carte qui est au départ utilisée pour afficher des images sur un écran. Une carte-mère classique possède ainsi une carte graphique intégrée ce qui permet par défaut d'y connecter un écran. Cependant lorsqu'on parle de GPU on fait en général référence à une carte graphique optionnelle qui est utilisée pour augmenter la capacité de l'ordinateur à traiter des images et à effectuer des calculs, notamment des calculs 3D.\n",
    "\n",
    "Elles sont très utilisées par les joueurs de jeux vidéos ainsi que les professionnels de la vidéo et du traitement de l'image. Depuis les années 2010 celles-ci servent aussi aux scientifiques et aux *data scientists* à entraîner des modèles statistiques ou mathématiques nécessitant des calculs lourds et complexes (par exemple dans le cas des réseaux de neurones)."
   ]
  },
  {
   "cell_type": "markdown",
   "metadata": {
    "tags": [
     "fr"
    ]
   },
   "source": [
    "## La carte mère\n",
    "\n",
    "<img src=\"files/motherboard.jpg\" alt=\"motherboard\" width=\"400\" align=\"left\"/>\n",
    "\n",
    "La carte mère est un circuit imprimé qui relie tous les éléments de l'ordinateur entre eux. Elle dispose d'emplacements pour y insérer la RAM, d'autres emplacements pour différents types de cartes (carte son, carte graphique, carte wifi...), de prises pour y connecter les différents lecteurs de disques (disques durs, lecteur/graveur CD/DVD...) en utilisant des connecteurs IDE ou SATA, ainsi que d'autres types d'entrées ou de sorties (VGA, HDMi, USB, mini-jack...) pour y brancher des périphériques externes (écrans, imprimantes, souris, clavier, enceintes...).\n",
    "\n",
    "La carte-mère exerce un effet limitant sur les performances d'un ordinateur : si le modèle de celle-ci n'est pas adaptée à la puissance des trois autres déterminants principaux d'un ordinateur (processeur, mémoire vive, disque dur), les performances globales de l'ordinateur seront ralenties.\n",
    "\n",
    "Le BIOS (ou l'UEFI dans sa version plus récente), est un micrologiciel contenue sur une puce de la carte mère qui permet de la paramétrer avant de lancer le système d'exploitation (OS) et qui reconnaît également les périphériques de base (clavier, souris, écran). On y accède souvent lorsqu'on doit installer ou réinstaller un système d'exploitation et qu'on doit indiquer à l'ordinateur sur lequel il est censé démarrer (*booter*). Lors du démarrage d'un ordinateur il est indiqué quelle combinaison de touches du clavier il faut presser pour accéder au BIOS. La carte mère utilise une pile, le même type de pile que pour les montres, afin de pouvoir faire fonctionner l'horloge interne de l'oridnateur."
   ]
  },
  {
   "cell_type": "markdown",
   "metadata": {
    "tags": [
     "fr"
    ]
   },
   "source": [
    "# Le fonctionnement logiciel d'un ordinateur (le \"*software*\")\n",
    "\n",
    "👉 A partir du \"*hardware*\", c'est-à-dire des composants physiques d'un ordinateur, on peut construire toute la partie \"*software*\", c'est-à-dire les programmes qui fonctionnent en utilisant ces composants.\n",
    "\n",
    "En grossissant le trait on peut voir un ordinateur comme un processus particulier qui\n",
    "\n",
    "- Prend en entrée des données\n",
    "- Leur faire subir des traitements\n",
    "- Retourne d'autres données en sortie\n",
    "\n",
    "Les deux fonctions de base sur un ordinateur sont donc :\n",
    "\n",
    "- Lire et écrire des données\n",
    "- Effectuer des opérations avec ces données\n",
    "\n",
    "**Comment un ordinateur peut-il, à partir de flux électriques, effectuer des opérations ou bien lire des données ?**"
   ]
  },
  {
   "cell_type": "markdown",
   "metadata": {
    "tags": [
     "fr"
    ]
   },
   "source": [
    "## Les opérations : transistors et portes logiques\n",
    "\n",
    "Un transistor est un composant électronique qui fonctionne comme un interrupteur et permet de laisser passer du courant ou non. Etablir la distinction entre un courant qui circule et un courant qui ne circule pas est la base sur laquelle repose toute l'informatique moderne. Un ordinateur ne \"comprend\" *in fine* que ces deux états : soit le courant circule, soit il ne circule pas (Vrai ou Faux, *True* ou *False*, 1 ou 0).\n",
    "\n",
    "|  Contexte |   Valeurs   |\n",
    "|:---------:|:-----------:|\n",
    "|  Logique  | vrai / faux |\n",
    "|  Logique  | oui / non   |\n",
    "| Numérique |    1 / 0    |\n",
    "\n",
    "Au fil des années les transistors ont été miniaturisés à tel point qu'un processeur peut en contenir des milliards et donc effectuer des milliards d'opérations en un temps très réduit.\n",
    "\n",
    "En assemblant des transistors ensemble et en faisant circuler du courant entre eux on peut réussir à leur faire exécuter des opérations logiques automatiquement, ce sont ce qu'on appelle des \"portes logiques\". Par exemple, si l'on prend deux transistors que nous appellerons A et B, et que nous les branchons en série, c'est-à-dire l'un à la suite de l'autre, puis que nous mesurons le courant en sortie de B :\n",
    "\n",
    "<img src=\"files/A_ET_B.png\" alt=\"A ET B\" width=\"300\" align=\"center\"/>\n",
    "\n",
    "- Si A est désactivé (le courant ne passe pas) et que B l'est aussi, le résultat est, évidemment, négatif.\n",
    "\n",
    "- Si A est activé mais que B est désactivé, le résultat est négatif puisque le courant s'arrête une fois atteint B.\n",
    "\n",
    "- Si A est désactivé et B est activé, le résultat est négatif puisque le courant, s'arrêtant à A, ne peut pas atteindre B.\n",
    "\n",
    "- Si A et B sont tous deux activés, alors le courant circule et le résultat mesuré en sortie de B sera positif.\n",
    "\n",
    "Nous venons ici de retrouver une première porte logique que nous appellerons \"ET\". Elle signifie que si A est vrai et B est vrai alors la proposition \"A ET B\" est vrai. En revanche si A ou B (ou les deux) est faux, \"A ET B\" sera faux également.\n",
    "\n",
    "Reprenons nos transistors A et B, mais cette fois nous les connecterons tous deux au même circuit sans que A passe par B ou que B passe par A. Puis nous mesurons le courant électrique en sortie\n",
    "\n",
    "<img src=\"files/A_OU_B.png\" alt=\"A ET B\" width=\"300\" align=\"center\"/>\n",
    "\n",
    "- Si A est désactivé (le courant ne passe pas) et que B l'est aussi, le résultat du test est, évidemment, négatif.\n",
    "\n",
    "- Si A est activé mais que B est désactivé, le résultat est positif puisque le courant sera passé par A.\n",
    "\n",
    "- Si A est désactivé et B est activé, le résultat sera positif puisque le courant sera passé par B.\n",
    "\n",
    "- Si A et B sont tous deux activés, alors le courant circulera par les deux transistors et le résultat sera positif.\n",
    "\n",
    "Nous venons ici de découvrir la porte logique \"OU\". Elle signifie que si A ou B est vrai (ou les deux) alors \"A OU B\" est vrai. Ce n'est que dans le cas où A et B sont tous deux faux que \"A OU B\" sera faux. Si l'on créé des \"tables de vérité\" pour résumer ces deux opérations en supposant que le chiffre \"1\" indique que le courant passe et que le chiffre \"0\" indique que le courant ne passe pas, l'on obtient ceci :\n",
    "\n",
    "| A | B | A ET B | A OU B |\n",
    "|:-:|:-:|:------:|:------:|\n",
    "| 0 | 0 |    0   |    0   |\n",
    "| 1 | 0 |    0   |    1   |\n",
    "| 0 | 1 |    0   |    1   |\n",
    "| 1 | 1 |    1   |    1   |\n",
    "\n",
    "\n",
    "Il existe bien d'autres portes logiques, mais nous aurons l'occasion de reparler de celles-ci lorsque nous aborderons le chapitre sur les conditions."
   ]
  },
  {
   "cell_type": "markdown",
   "metadata": {
    "tags": [
     "fr"
    ]
   },
   "source": [
    "## Les données : le système binaire\n",
    "\n",
    "**Une version plus détaillée du système binaire est disponible à la fin de ce notebook dans la partie \"pour aller plus loin\"**\n",
    "\n",
    "Les bits (0 ou 1), permettent donc d'effectuer des opérations simples à partir de circuits électriques basiques, mais ce système de codage a aussi une autre vertu : il permet de stocker de l'information. Pour cela on utilise le système binaire afin \"d'assembler\" les bits entre eux et de pouvoir compter au-delà de un.\n",
    "\n",
    "On appelle un demi-octet une suite de 4 bits, par exemple : 0110\n",
    "\n",
    "Et un octet une suite de 8 bits, par exemple : 01001010\n",
    "\n",
    "Pour simplifier on peut s'imaginer chaque bit 1 comme signifiant \"allumé\" et chaque bit 0 comme éteint. Le binaire se lit de droite à gauche, et à chaque changement d'unité on lui assigne une puissance de 2, en partant de 2<sup>0</sup> (ce qui est égal à 1) jusqu'à 2<sup>3</sup> (8 en décimal) pour un demi-octet.\n",
    "\n",
    "Si on note *m* la position du bit. Alors Chaque bit de ce demi-octet peut prendre une valeur égale à 2<sup> m - 1</sup>, ou bien, si il est désactivé, à 0. Comme un demi-octet est codé sur 4 bits, on peut donc combiner entre elles 5 valeurs possibles (8, 4, 2, 1 et 0) permettant ainsi de prendre toutes les valeurs allant de 0 à 15.\n",
    "\n",
    "|   Puissance   | 2<sup>3</sup> | 2<sup>2</sup> | 2<sup>1</sup> |    2<sup>0</sup>   |\n",
    "|:-------------:|:-------------:|:-------------:|:-------------:|:------------------:|\n",
    "|     Calcul    |   2 * 2 * 2   |     2 * 2     |       2       |          1         |\n",
    "| Valeur du bit |       8       |       4       |       2       |          1         |\n",
    "\n",
    "\n",
    "De là il est aisé de calculer la valeur de différents demi-octet. Par exemple :\n",
    "\n",
    "| 8 | 4 | 2 | 1 | Calcul | Résultat en décimal\n",
    "| :-: | :-: | :-: | :-: | :-: | :-: |\n",
    "| 0 | 1 | 1 | 0 | 4 + 2 | 6 |\n",
    "| 1 | 0 | 0 | 1 | 8 + 1 | 9 |\n",
    "| 0 | 0 | 0 | 1 | 1 | 1 |\n",
    "| 1 | 1 | 1 | 1 | 8 + 4 + 2 + 1 | 15 |\n",
    "\n",
    "\n"
   ]
  },
  {
   "cell_type": "markdown",
   "metadata": {
    "tags": [
     "fr"
    ]
   },
   "source": [
    "## Le système hexadécimal\n",
    "\n",
    "**Une version plus détaillée du système hexadécimal est disponible à la fin de ce notebook dans la partie \"pour aller plus loin\"**\n",
    "\n",
    "Pour des raisons d'optimisation, et comme un semi-octet peut prendre 16 valeurs différentes, les données en binaires sont ensuite converties en système hexadécimal (du grec hexa : seize). Celui-ci utilisant une base 16, il a donc fallu trouver des chiffres supplémentaires pour représenter les 6 chiffres manquants. On a alors choisi d'utiliser les 6 premières lettres de l'alphabet : A, B, C, D, E et F.\n",
    "\n",
    "| Hexadécimal | Décimal |  \n",
    "| :----: | :------: | \n",
    "| 0 | 0 |\n",
    "| 1 | 1 |\n",
    "| 2 | 2 |\n",
    "| 3 | 3 |\n",
    "| 4 | 4 |\n",
    "| 5 | 5 |\n",
    "| 6 | 6 |\n",
    "| 7 | 7 |\n",
    "| 8 | 8 |\n",
    "| 8 | 8 |\n",
    "| 9 | 9 |\n",
    "| A | 10 |\n",
    "| B | 11 |\n",
    "| C | 12 |\n",
    "| D | 13 |\n",
    "| E | 14 |\n",
    "| F | 15 |\n",
    "| 10 | 16 |\n",
    "| 11 | 17 |\n",
    "| 12 | 18 |\n",
    "| 13 | 19 |\n",
    "| 14 | 20 |\n",
    "| 15 | 21 |\n",
    "| 16 | 22 |\n",
    "| 17 | 23 |\n",
    "| 18 | 24 |\n",
    "| 19 | 25 |\n",
    "| 1A | 26 |\n",
    "| ... | ... |\n",
    "\n",
    "C'est pour cela qu'en informatique ou trouve parfois des notations telles que 1E, 3BF, C3, D4E etc. Ce sont tout simplement des nombres dans une autre base que la base décimale. Le système héxadécimal est utilisé par exemple pour coder les adresses MAC des cartes réseau, les IPv6, les couleurs, les tables ASCII, les clés de sécurité des box internet etc."
   ]
  },
  {
   "cell_type": "markdown",
   "metadata": {
    "tags": [
     "fr"
    ]
   },
   "source": [
    "# Systèmes d'exploitation et applications\n",
    "\n",
    "## Systèmes d'exploitation (OS)\n",
    "\n",
    "Le système d'exploitation (souvent abrégé en OS pour *operating system*) a trois principales fonctions :\n",
    "\n",
    "- Il fait le lien entre les programmes exécutés par l'utilisateur (le *software*) et les composants de l'ordinateur (*hardware*) en gérant les différentes ressources (mémoire, processeur, périphériques...).\n",
    "- Il propose un écosystème dans lequel les développeurs peuvent écrire de nouveaux programmes.\n",
    "- Il embarque de nombreux logiciels (utilitaires) et des protocoles afin de faciliter la prise en main par les utilisateurs. Ce sont par exemple tous les programmes installés par défaut, et tous les programmes permettant de paramétrer l'ordinateur.\n",
    "- Il comporte la plupart du temps un GUI (*Graphic User Interface*), une interface graphique, ainsi qu'un CLI (*Command Line Interface*), c'est-à-dire la possibilité d'utiliser une console avec des lignes de command.\n",
    "\n",
    "Exemples de système d'exploitation pour les ordinateurs portables ou de bureau :\n",
    "\n",
    "- Linux (GNU, logiciel libre), qui se décline sous une multitude de \"distributions\" (Ubuntu, Debian...)\n",
    "- MacOs (Apple)\n",
    "- Windows (Microsoft)\n",
    "\n",
    "Systèmes d'exploitation pour smartphone et tablette :\n",
    "\n",
    "- Android\n",
    "- iOS\n",
    "- Windows phone\n",
    "\n",
    "En réalité, si l'on met de côté les systèmes d'exploitation expérimentaux, il n'existe que deux grandes familles :\n",
    "\n",
    "- Unix et ses dérivés d'un côté (Linux ainsi que tous les produits Apple depuis 2002)\n",
    "- Les produits windows de l'autre côté.\n",
    "\n",
    "Windows est très répandu chez les particuliers, mais les informaticiens sont pour la plupart sur mac et linux. Quant aux serveurs et aux calculateurs ils fonctionnent pratiquement tous sur linux."
   ]
  },
  {
   "cell_type": "markdown",
   "metadata": {
    "tags": [
     "fr"
    ]
   },
   "source": [
    "## Comment programme-t-on ?\n",
    "\n",
    "### Le code source\n",
    "\n",
    "En informatique la programmation, aussi appelée codage, est l'ensemble des activités qui permettent d'écrire des programmes informatiques. La première étape consiste au départ à écrire **le code source**, qui est un langage compréhensible par un être humain mais interprétable par un ordinateur. C'est une sorte de langue commune, de point de jonction entre l'homme et la machine, qui permet au premier d'expliquer à la seconde les opérations qu'elle doit effectuer. \n",
    "\n",
    "Par exemple :\n",
    "\n",
    "**Langage humain :**\n",
    "\n",
    "\"Je voudrais une fonction qui me retourne le carré d'un nombre que j'entre.\"\n",
    "\n",
    "**Code source (en python):**\n",
    "\n",
    "```python\n",
    "def carre(x):\n",
    "    return x * x\n",
    "```\n",
    "\n",
    "**Langage machine (en binaire)**:\n",
    "\n",
    "```\n",
    "101000101010101010101000000101010101010101010001001010\n",
    "101001001001001010101011111010101000100100100100010011\n",
    "001000101111100010101001010101001010101010101000100100\n",
    "101000101010101010101000010101010101010101010001001010\n",
    "000011110010101010011110101010100100100001111111001010\n",
    "```\n",
    "\n",
    "Dans l'exemple ci-dessus le code source vous apparaît peut-être un peu obscur pour l'instant, mais il reste néanmoins beaucoup plus compréhensible que le langage machine qui n'est composé que de 0 et de 1."
   ]
  },
  {
   "cell_type": "markdown",
   "metadata": {
    "tags": [
     "fr"
    ]
   },
   "source": [
    "### Programmes, logiciels, scripts et applications\n",
    "\n",
    "De manière générale un **programme** s'entend comme une suite d'instructions données à un ordinateur. A minima il peut donc s'agir d'une seule ligne de code réalisant une seule opération.\n",
    "\n",
    "Cependant on emploie souvent à tort le terme \"programme\" pour désigner par métonymie un **logiciel**. Un logiciel est en réalité un ensemble organisé de programmes différents, parfois écrits dans plusieurs langages. (exemple : word, firefox, outlook...)\n",
    "\n",
    "Les **scripts**, eux, sont des programmes qui sont le plus souvent exécutés en dehors du cadre d'un logiciel et sont écrits dans ce qu'on appelle des \"langages interprétés\" (dont nous verrons la définition plus loin).\n",
    "\n",
    "Quant aux **applications**, ou **app** que l'on installe sur les smartphones ou les tablettes, ce sont tout simplement des \"logiciels\", même si cette dénomination recouvre différents cas de figures et peut inclure des scripts (application web progressive)."
   ]
  },
  {
   "cell_type": "markdown",
   "metadata": {
    "tags": [
     "fr"
    ]
   },
   "source": [
    "## Deux grandes approches en programmation\n",
    "\n",
    "Un code source a besoin d'être **\"compilé\"** pour pouvoir être exécuter, c'est-à-dire qu'il doit être transformé en langage machine (des 0 et des 1). En forçant le trait, on pourrait dire qu'il existe deux sortes d'usage du code source en programmation qui découle des deux grands types de compilation : la **compilation anticipée** et la **compilation à la volée**.\n",
    "\n",
    "- **Le développement de logiciels (compilation anticipée)**\n",
    "\n",
    "    Lorsqu'on développe un logiciel, cela signifie que des développeurs vont définir les spécifications du logiciel, réaliser sa conception, implémenter les fonctions désirées à l'aide d'un ou plusieurs langages de programmation et finalement corriger les erreurs (*bugs*).\n",
    "    \n",
    "    Par exemple \"Firefox\" est un logiciel qui regroupe un ensemble de programmes qui sont écrits dans différents langages (C, C++, JavaScript, CSS, Rust...). A la fin le code source est **compilé** afin de créer un fichier exécutable binaire qui lui est écrit en langage machine, c'est-à-dire dans un langage compréhensible par le processeur de l'ordinateur.\n",
    "    \n",
    "    Ce fichier exécutable binaire est celui sur lequel l'utilisateur \"clique\" lorsqu'il veut lancer le logiciel sur son ordinateur. La plupart des logiciels disposent d'une interface graphique (des menus, des fenêtres etc.) afin que l'utilisateur n'ait pas à taper les commandes directement, ce qui les rend plus faciles à utiliser.\n",
    "\n",
    "- **Les scripts (compilation à la volée)**\n",
    "\n",
    "    Lorsqu'on fait de la programmation en utilisant des scripts, l'approche est différente : le code source est lu pas-à-pas (et donc compilé à la volée) par l'ordinateur qui exécute les instructions. Il n'existe donc pas de fichier exécutable : le programme et le code source ne font qu'un. On ne prend presque jamais la peine de développer une interface graphique et on se contente simplement de lancer le script afin qu'il accomplisse la tâche désirée.\n",
    "    \n",
    "    Par exemple, c'est avec ce type d'approche que les sites internet fonctionnent. Lorsqu'on ouvre une page internet, le code source (souvent de l'HTML, du JavaScript et du CSS) est interprété par le navigateur qui le comprend et l'exécute ligne après ligne. Il n'existe pas de fichier \"google.exe\", mais il existe une page HTML dont le code source est transmis au navigateur si l'on se rend sur google.fr.\n",
    "    \n",
    "    Les scripts sont très utilisés par toutes les personnes qui ont besoin d'automatiser des tâches mais n'ont pas le temps, les compétences ou l'envie de créer un logiciel complet.\n",
    "    \n",
    "Certains langages de programmation ne peuvent fonctionner que compilés au préalable (C, C++, Pascal etc.), d'autres ne fonctionnent que compilés à la volée (ce sont donc les scripts écrits dans des langages interprétés comme le Shell, le JavaScript etc.), et enfin certains (Python, PHP etc.) peuvent fonctionner dans les deux cas de figure.\n",
    "\n",
    "**Dans le cadre de ce cours nous allons écrire des scripts Python, c'est-à-dire l'utiliser comme un langage interprété.**"
   ]
  },
  {
   "cell_type": "markdown",
   "metadata": {
    "tags": [
     "fr"
    ]
   },
   "source": [
    "## Langages de programmation\n",
    "\n",
    "### Langages de bas et haut niveau\n",
    "\n",
    "Il existe aujourd'hui un grand nombre de langages de programmation différents, mais ils dérivent tous d'un langage unique : **l'assembleur**, qui peut se compiler directement en binaire sans étape intermédiaire. Comme écrire en langage assembleur est une tâche longue et fastidieuse, les informaticiens se sont mis à inventer de nouveaux langages de programmation qui simplifient son utilisation."
   ]
  },
  {
   "cell_type": "markdown",
   "metadata": {
    "tags": [
     "fr"
    ]
   },
   "source": [
    "#### Le 'Hello World'\n",
    "\n",
    "En informatique, il existe une tradition lorsqu'on apprend un nouveau langage, celui de réussir à afficher la phrase \"Hello World\" sur l'écran de l'ordinateur. Voici trois exemples de programmes de \"Hello World\" (tirés de [wikipedia](https://fr.wikipedia.org/wiki/Liste_de_programmes_Hello_world))."
   ]
  },
  {
   "cell_type": "markdown",
   "metadata": {
    "tags": [
     "fr"
    ]
   },
   "source": [
    "#### En langage assembleur"
   ]
  },
  {
   "cell_type": "markdown",
   "metadata": {
    "tags": []
   },
   "source": [
    "```assembly\n",
    "cseg    segment\n",
    "        assume  cs:cseg, ds:cseg\n",
    "        org     100h\n",
    "main    proc\n",
    "        mov     dx, offset Message\n",
    "        mov     ah, 9\n",
    "        int     21h\n",
    "        ret\n",
    "main    endp\n",
    "\n",
    "Message db      \"Hello, world!$\"\n",
    "cseg    ends\n",
    "        end     main\n",
    "\n",
    "```"
   ]
  },
  {
   "cell_type": "markdown",
   "metadata": {
    "tags": []
   },
   "source": [
    "#### C++\n",
    "\n",
    "```C\n",
    "#include <iostream>\n",
    " \n",
    "int main()\n",
    "{\n",
    "    std::cout << \"Hello, world!\\n\";\n",
    "}\n",
    "```"
   ]
  },
  {
   "cell_type": "markdown",
   "metadata": {
    "tags": []
   },
   "source": [
    "#### Python\n",
    "\n",
    "```python\n",
    "print('Hello, world!')\n",
    "```"
   ]
  },
  {
   "cell_type": "markdown",
   "metadata": {
    "tags": [
     "fr"
    ]
   },
   "source": [
    "### Traduction d'un langage à un autre.\n",
    "\n",
    "Comme vous pouvez le voir le code source pour le même programme est très différent selon le langage choisi. On dit que l'assembleur est un langage de bas niveau, et que Python est un langage de haut niveau. Le C et le C++ sont souvent considérés comme des langages de \"moyen niveau\".\n",
    "\n",
    "Lorsqu'on programme en Python les instructions sont d'abord traduites en \"bytecode\" par un interpréteur (souvent CPython) puis exécutées en assembleur."
   ]
  },
  {
   "cell_type": "markdown",
   "metadata": {
    "tags": [
     "fr"
    ]
   },
   "source": [
    "### Différents langages pour différentes utilisations\n",
    "\n",
    "Au départ chaque langage a été développé atteindre des objectifs précis dans un domaine ; et chacun a ses forces et ses faiblesses. Parmi les plus connus on peut citer les langages utilisés pour :\n",
    "\n",
    "- Le web: HTML, CSS, PHP, JavaScript...\n",
    "- Développer des logiciels: C++, Java...\n",
    "- Des traitements statistiques: R...\n",
    "- La manipulation de base de données: SQL...\n",
    "- Effectuer des calculs techniques: Matlab...\n",
    "- etc."
   ]
  },
  {
   "cell_type": "markdown",
   "metadata": {
    "tags": [
     "fr"
    ]
   },
   "source": [
    "# Python\n",
    "\n",
    "## Origine\n",
    "\n",
    "Python est un langage inventé par un programmeur hollandais alors trentenaire, [**Guido Van Rossum**](https://fr.wikipedia.org/wiki/Guido_van_Rossum), qui s'ennuyait chez ses parents pendant les vacances de Noël 1989. Il a continué à améliorer et perfectionner son langage au fil des années avant que toute une communauté de programmeurs, ainsi que Google, ne commencent à l'assister, attiré par sa simplicité d'utilisation.\n",
    "\n",
    "Son nom provient du groupe comique britannique les [Monty Python](https://fr.wikipedia.org/wiki/Monty_Python). Depuis peu Guido Van Rossum ne prend plus une part active dans le développement de Python, mais il continue à prodiguer ses conseils.\n",
    "\n",
    "Python est un langage généraliste, on dit parfois qu'il est considéré comme \"le 2ème meilleur langage dans tous les domaines\". Ce trait d'humour signifie qu'il existe souvent des langages plus adaptés aux objectifs recherchés, mais Python arrivera aussi probablement à les accomplir, ce qui évite de devoir apprendre un nouveau langage.\n",
    "\n",
    "Python est présent partout (Netflix, Google, Facebook en font un usage intensif) parce que c'est un des plus simples à comprendre et des mieux structurés. Cependant il a plusieurs défauts, le principal étant sa lenteur : comme Python est un langage de haut niveau, il lui faut beaucoup de temps pour traduire ses instructions en langage machine (assembleur). Cependant cette lenteur n'est perceptible que dans le cas où il y a un grand nombre d'instructions à exécuter et/ou la taille des données traitées est très grande."
   ]
  },
  {
   "cell_type": "markdown",
   "metadata": {
    "tags": [
     "fr"
    ]
   },
   "source": [
    "## Les IDE\n",
    "\n",
    "Les IDE (*Integrated Development Environment*) ou EDI (Environnement de Développement Intégré), sont des logiciels qui ont été conçus pour faire de la programmation. Ils permettent de gagner un temps précieux en gagnant en lisibilité dans le code, et en assistant le programmeur à l'aide de nombreux outils. Ici une capture d'écran du logiciel \"Visual Studio Code\" pendant qu'un programmeur travaille sur du code en Java Script.\n",
    "\n",
    "<img src=\"files/VSC.png\" alt=\"Visual Studio Code\" width=\"600\" align='left'/>"
   ]
  },
  {
   "cell_type": "markdown",
   "metadata": {
    "tags": [
     "fr"
    ]
   },
   "source": [
    "## Zoom sur Jupyter Lab\n",
    "\n",
    "Lors des cours suivants nous allons utiliser Jupyter Lab (une version plus complète de Jupyter Notebook). Jupyter Lab est un IDE récent et innovant qui se prête très bien aux activités scientifiques et à la manipulation de données. Ci-dessous une copie d'écran.\n",
    "\n",
    "<img src=\"files/jupyter_lab.png\" alt=\"jupyter lab\" width=\"600\" align='left'/>"
   ]
  },
  {
   "cell_type": "markdown",
   "metadata": {
    "tags": [
     "fr"
    ]
   },
   "source": [
    "### Jupyter lab\n",
    "\n",
    "Jupyter Lab permet de coder dans différents langages (JUlia, PYThon, R mais aussi SQL avec certaines extensions). C'est un IDE très répandu parmi les personnes qui traitent des données.\n",
    "\n",
    "Le moyen le plus facile pour obtenir Jupyter Lab est de télécharger la distribution d'Anaconda à l'adresse suivante : https://www.anaconda.com/distribution/\n",
    "\n",
    "**-/!\\ Faites attention à bien télécharger la version qui correspond à votre système d'exploitation /!\\-**"
   ]
  },
  {
   "cell_type": "markdown",
   "metadata": {
    "tags": [
     "fr"
    ]
   },
   "source": [
    "### Lancer Jupyter Lab\n",
    "\n",
    "**Pour Windows :**\n",
    "\n",
    "Pour lancer jupyter lab le mieux est d'utiliser un programme installé lors de l'installation d'Anaconda qui s'appelle \"anaconda prompt\". Cette console est une version améliorée de l'invité de commande de Windows, permettant notamment d'être sûr que Python fonctionne correctement. Une fois ouvert, il suffit de taper :\n",
    "\n",
    "```shell\n",
    "jupyter lab\n",
    "```\n",
    "\n",
    "**Pour Mac et Linux:**\n",
    "\n",
    "Ouvrez un terminal et taper :\n",
    "\n",
    "```shell\n",
    "jupyter lab\n",
    "```"
   ]
  },
  {
   "cell_type": "markdown",
   "metadata": {
    "tags": [
     "fr"
    ]
   },
   "source": [
    "### Comment fonctionne Jupyter Lab ?\n",
    "\n",
    "Une fois que vous avez lancé le programme, un nouvel onglet devrait apparaître dans votre navigateur internet.\n",
    "En effet Jupyter Lab utilise votre navigateur pour communiquer directement avec Python. Ceci lui permet d'être plus souple que les autres logiciels, ainsi que de faire du travail collaboratif.\n",
    "\n",
    "Si jamais Jupyter Lab ne s'ouvre pas ou s'ouvre dans un navigateur que vous ne désirez pas utiliser, il suffit de copier-coller le lien que Jupyter Lab vous affiche dans la console. Dans l'image ci-dessous les liens que l'on peut copier coller sont indiqués en jaune.\n",
    "\n",
    "Si un token est demandé, il suffit d'entrer celui qui apparaît dans le shell.\n",
    "\n",
    "<img src=\"files/url-jupyter.jpg\" alt=\"CPU\" width=\"600\" align='left'/>"
   ]
  },
  {
   "cell_type": "markdown",
   "metadata": {
    "tags": [
     "fr"
    ]
   },
   "source": [
    "### Les cellules\n",
    "\n",
    "L'utilité principale de Jupyter Lab réside en ces \"cellules\" qui permettent d'exécuter du code de manière indépendante, ou bien d'insérer d'autres éléments que du code. Chaque cellule peut être de trois types différents :\n",
    "\n",
    "- **Cellule \"code\"** : Elle contient des instructions de programmation qui seront exécutées quand on lance la cellule.\n",
    "- **Cellule \"markdown\"** : Elle contient du texte et des images qui seront formatés correctement quand on la lance.\n",
    "- **Cellule \"raw\"** : Elle contient du texte brut, il ne se passe rien si on lance la cellule.\n",
    "\n",
    "Pour lancer une cellule et passer à la cellule suivante il suffit de la sélectionner et d'appuyer sur **\"maj + entrée\"**.\n",
    "(Note : pour lancer la cellule sans passer à la cellule suivante, la combinaison est **\"ctrl + entrée\"**)"
   ]
  },
  {
   "cell_type": "markdown",
   "metadata": {
    "tags": [
     "fr"
    ]
   },
   "source": [
    "## Le markdown\n",
    "\n",
    "### Définition\n",
    "\n",
    "Le meilleur moyen pour écrire du texte dans Jupyter Lab est d'employer le langage markdown qui est une sorte de surcouche du HTML. C'est un moyen rapide et facile d'écrire et de mettre en forme du texte. Cette introduction, ainsi que tous les cours suivants, contiennent du markdown. Pour modifier une cellule en markdown il suffit de double cliquer sur la cellule, ou bien de la sélectionner et d'appuyer sur entrée."
   ]
  },
  {
   "cell_type": "markdown",
   "metadata": {
    "tags": [
     "fr"
    ]
   },
   "source": [
    "### Fonctionnement\n",
    "\n",
    "Pour afficher un titre en markdown, on place un \\# devant pour le titre le plus élevé. Puis deux \\#\\# pour un titre de second niveau etc. Markdown possède 6 niveaux de titres.\n",
    "\n",
    "On peut aussi facilement rajouter des liens en plaçant un texte entre \\[ \\] crochets, et en écrivant à la suite le lien entre parenthèses (). \n",
    "\n",
    "[voici un exemple de lien vers un site perdu.com](http://www.perdu.com)\n",
    "\n",
    "On peut aussi écrire des listes sous forme de \"bullet points\":\n",
    "\n",
    "- Ici un premier élément\n",
    "- Et là un deuxième\n",
    "\n",
    "Double-cliquez sur cette cellule pour voir la syntaxe d'un texte en markdown ! Quand on exécute la cellule, le texte se met en forme comme par magie !"
   ]
  },
  {
   "cell_type": "markdown",
   "metadata": {
    "tags": [
     "fr"
    ]
   },
   "source": [
    "## Les notebooks\n",
    "\n",
    "Les notebooks, fichiers avec l'extension **.ipynb**, sont les fichiers crées par Jupyter Lab ou Jupyter Notebook. Ce sont des fichiers hybrides qui permettent de faire de la programmation de manière interactive en y incluant du Markdown. Les notebooks permettent de rompre avec l'aspect souvent austère des outils utilisés par les développeurs, ce qui rend la programmation plus accessible et plus compréhensible par les personnes qui ne sont pas informaticiens de formation."
   ]
  },
  {
   "cell_type": "markdown",
   "metadata": {
    "tags": [
     "fr"
    ]
   },
   "source": [
    "## Hello World!\n",
    "\n",
    "Tout à l'heure, nous avons évoqué cette vieille tradition informatique qui consiste à ce que lorsqu'on apprend un nouveau langage la première instruction exécutée fasse apparaître le message suivant \"Hello World !\". Cela permet d'apprendre à utiliser la fonction permettant d'afficher du texte, mais aussi de vérifier que Python est correctement installé.\n",
    "\n",
    "Sans plus attendre, entrons dans le monde de la programmation avec cette première instruction:"
   ]
  },
  {
   "cell_type": "code",
   "execution_count": null,
   "metadata": {},
   "outputs": [],
   "source": [
    "print(\"Hello World!\")"
   ]
  },
  {
   "cell_type": "markdown",
   "metadata": {
    "tags": [
     "fr"
    ]
   },
   "source": [
    "Pour lancer la commande, placez-vous sur la cellule et appuyez sur \"maj + entrée\" (ou cliquer sur l'icône \"play\" en haut à gauche). En dessous de la cellule s'affiche le résultat de votre instruction. Ici vous avez demandé à l'ordinateur d'afficher (\"print\" en anglais) un message, et l'ordinateur s'est plié à vos désirs ! **Félicitations, vous êtes désormais un programmeur !**"
   ]
  },
  {
   "cell_type": "markdown",
   "metadata": {
    "tags": [
     "fr"
    ]
   },
   "source": [
    "## Points techniques\n",
    "\n",
    "### Le *kernel*\n",
    "\n",
    "Qui exécute toutes ces opérations ? C'est un programme particulier de votre ordinateur qui tourne en fond grâce à Jupyter Lab et qui s'appelle le \"*kernel*\" (noyau en français). Quand on exécute du code Python, Jupyter Lab envoie ce code au *kernel* qui l'exécute dans une version donnée de Python (ou d'un autre langage si vous le souhaitez) et qui renvoie le travail fini à Jupyter Lab afin qu'il affiche les résultats.\n",
    "\n",
    "Il existe un *kernel* pour chaque notebook ouvert. Il arrive que ceux-ci plantent. Pour vérifier son statut regardez en haut à droite du notebook. Vous verrez indiqué \"Python 3\" ainsi qu'un cercle blanc. Si celui-ci est blanc, c'est que le kernel n'est pas en train de travailler. Si il est noir c'est qu'il est en cours d'exécution.\n",
    "\n",
    "Si jamais le cercle reste noir et que Jupyter Lab semble ne plus répondre, utiliser le menu \"*Kernel*\" et \"*Restart kernel*\" (**ESC + deux fois 0**) ou **ESC + deux fois I** pour l'interrompre. Vous pourrez alors le relancer manuellement."
   ]
  },
  {
   "cell_type": "markdown",
   "metadata": {
    "tags": [
     "fr"
    ]
   },
   "source": [
    "### Les \"*outputs*\" (sorties).\n",
    "\n",
    "Si on veut effacer le résultat affiché, le plus simple est de faire un clic droit et de sélectionner \"*clear outputs*\". Si l'on veut effacer toutes les sorties du notebook, on peut choisir \"*clear all outputs*\"."
   ]
  },
  {
   "cell_type": "markdown",
   "metadata": {
    "tags": [
     "fr"
    ]
   },
   "source": [
    "# Pour aller plus loin"
   ]
  },
  {
   "cell_type": "markdown",
   "metadata": {
    "tags": [
     "fr"
    ]
   },
   "source": [
    "## Les données : le système binaire (version longue)\n",
    "\n",
    "Les bits permettent donc d'effectuer des opérations simples à partir de circuits électriques basiques, mais ce système de codage a aussi une autre vertu : il permet de stocker de l'information. Pour cela on utilise le système binaire afin \"d'assembler\" les bits entre eux et de pouvoir compter au-delà de deux.\n",
    "\n",
    "Pour ce faire on utilise exactement le même mécanisme que la numérotation décimale (base 10) que nous connaissons tous et qui est basée sur 10 chiffres différents (0, 1, 2, 3, 4, 5, 6, 7, 8 et 9).\n",
    "\n",
    "Lorsque qu'on concatène (\"colle\") des chiffres entre eux, ceux-ci n'ont pas la même signification. Dans le chiffre 12, le \"1\" signifie \"10\" unités et le \"2\" signifie 2 unités. Dans 423, le \"4\" signifie 4 fois 100 unités, le \"2\" 2 fois 10 unités, et enfin le \"3\" 3 unités. On obtient donc le raisonnement suivant (rappel 10<sup>0</sup> = 1):\n",
    "\n",
    "| Nombre en base 10 |       10<sup>3</sup>      |      10<sup>2</sup>      |      10<sup>1</sup>     |     10<sup>0</sup>     |\n",
    "|:-----------------:|:-------------------------:|:------------------------:|:-----------------------:|:----------------------:|\n",
    "|         3         |                           |                          |                         | 3 * 10<sup>0</sup> = 3 |\n",
    "|         12        |                           |                          | 1 * 10<sup>1</sup> = 10 | 2 * 10<sup>0</sup> = 2 |\n",
    "|        425        |                           | 4 * 10<sup>2</sup> = 400 | 2 * 10<sup>1</sup> = 20 | 5 * 10<sup>0</sup> = 5 |\n",
    "|        9807       | 9 * 10<sup>3</sup> = 9000 | 8 * 10<sup>2</sup> = 800 |  0 * 10<sup>1</sup> = 0 | 7 * 10<sup>0</sup> = 7 |\n",
    "\n",
    "\n",
    "Lorsqu'on part de la droite, chaque chiffre est une puissance de la base utilisée. Comme nous sommes en base 10, ce sont des puissances de 10. Mais rien ne nous empêche d'utiliser d'autres bases pour compter. Par exemple si on prend la base 2, on peut écrire n'importe quel nombre décimal sous une suite de 0 et de 1.\n",
    "\n",
    "Voici les nombres de 0 à 15 traduits en binaire. Par souci de lisibilité, lorsque la première valeur est égale à 0, on laisse la case vide, sauf pour la première ligne où il est laissé à titre d'exemple (rappel n<sup>0</sup> = 1).\n",
    "\n",
    "\n",
    "| Nombre en base 10 | Nombre en base 2 (binaire) |     2<sup>3</sup>     |     2<sup>2</sup>     |     2<sup>1</sup>     |      2<sup>0</sup>     |\n",
    "|:-----------------:|:--------------------------:|:---------------------:|:---------------------:|:---------------------:|:----------------------:|\n",
    "|         0         |            0000            |                       |                       |                       | 0 * 10<sup>0</sup> = 0 |\n",
    "|         1         |            0001            |                       |                       |                       |  1 * 2<sup>0</sup> = 1 |\n",
    "|         2         |            0010            |                       |                       | 1 * 2<sup>1</sup> = 2 |                        |\n",
    "|         3         |            0011            |                       |                       | 1 * 2<sup>1</sup> = 2 |  1 * 2<sup>0</sup> = 1 |\n",
    "|         4         |            0100            |                       | 1 * 2<sup>2</sup> = 4 |                       |                        |\n",
    "|         5         |            0101            |                       | 1 * 2<sup>2</sup> = 4 |                       |  1 * 2<sup>0</sup> = 1 |\n",
    "|         6         |            0110            |                       | 1 * 2<sup>2</sup> = 4 | 1 * 2<sup>1</sup> = 2 |                        |\n",
    "|         7         |            0111            |                       | 1 * 2<sup>2</sup> = 4 | 1 * 2<sup>1</sup> = 2 |  1 * 2<sup>0</sup> = 1 |\n",
    "|         8         |            1000            | 1 * 2<sup>3</sup> = 8 |                       |                       |                        |\n",
    "|         9         |            1001            | 1 * 2<sup>3</sup> = 8 |                       |                       |  1 * 2<sup>0</sup> = 1 |\n",
    "|         10        |            1010            | 1 * 2<sup>3</sup> = 8 |                       | 1 * 2<sup>1</sup> = 2 |                        |\n",
    "|         11        |            1011            | 1 * 2<sup>3</sup> = 8 |                       | 1 * 2<sup>1</sup> = 2 |  1 * 2<sup>0</sup> = 1 |\n",
    "|         12        |            1100            | 1 * 2<sup>3</sup> = 8 | 1 * 2<sup>2</sup> = 4 |                       |                        |\n",
    "|         13        |            1101            | 1 * 2<sup>3</sup> = 8 | 1 * 2<sup>2</sup> = 4 |                       |  1 * 2<sup>0</sup> = 1 |\n",
    "|         14        |            1110            | 1 * 2<sup>3</sup> = 8 | 1 * 2<sup>2</sup> = 4 | 1 * 2<sup>1</sup> = 2 |                        |\n",
    "|         15        |            1111            | 1 * 2<sup>3</sup> = 8 | 1 * 2<sup>2</sup> = 4 | 1 * 2<sup>1</sup> = 2 |  1 * 2<sup>0</sup> = 1 |\n",
    "\n",
    "\n",
    "Lorsqu'on code un nombre sur 8 bits (par exemple : 10010101), on parle d'octet (8). Si on code un nombre sur 4 bits, on parle alors de demi-octet (ou semi-octet). En anglais \"byte\" est un terme ambigu, la plupart du temps il désigne un octet... mais pas toujours !\n",
    "\n",
    "Un octet peut donc prendre une valeur allant de 0 à 255 (00000000 en binaire vaut 0 en décimal, 11111111 = 255 en décimal). Un demi-octet peut lui prendre une valeur de 0 à 15 comme nous pouvons le voir dans le tableau ci-dessus.\n",
    "\n",
    "Pour faciliter la lecture, on peut aussi voir le binaire comme un tableau dont la valeur des colonnes part de 1 et double à chaque fois, et dont les valeurs correspondantes (qui ne peuvent être égales qu'à 1 ou 0) signifient que cette colonne est \"activée\" ou \"éteinte\". Le nombre à trouver est alors la somme des valeurs multipliée par la valeur de la colonne.\n",
    "\n",
    "Par exemple :\n",
    "\n",
    "| 128 | 64 | 32 | 16 | 8 | 4 | 2 | 1 | Calcul | Résultat en décimal\n",
    "| :-: | :-: | :-: | :-: | :-: | :-: | :-: | :-: | :-: | :-: |\n",
    "| 0 | 0 | 0 | 0 | 0 | 1 | 1 | 0 | 4 + 2 | 6 |\n",
    "| 0 | 0 | 0 | 1 | 1 | 0 | 0 | 1 | 16 + 8 + 1 |25 |\n",
    "| 1 | 0 | 0 | 0 | 0 | 0 | 0 | 1 | 128 + 1 | 129 |"
   ]
  },
  {
   "cell_type": "markdown",
   "metadata": {
    "tags": [
     "fr"
    ]
   },
   "source": [
    "## Le système hexadécimal (version longue)\n",
    "\n",
    "Pour des raisons d'optimisation, et comme un demi-octet peut prendre 16 valeurs différentes, les données en binaires sont ensuite converties en système hexadécimal (du grec hexa : seize). Celui-ci utilisant une base 16, il a donc fallu trouver des chiffres supplémentaires pour représenter les 6 chiffres manquants. On a alors choisi d'utiliser les 6 premières lettres de l'alphabet : A, B, C, D, E et F.\n",
    "\n",
    "En python pour préciser la base dans laquelle on écrit, on ajoute d'abord un \"0\" pour que l'interpréteur sache que cette expression est un nombre puis on indique la base (\"b\" pour binaire, \"x\" pour hexadécimal etc.)\n",
    "\n",
    "| Hexadécimal | Décimal |  \n",
    "| :----: | :------: | \n",
    "| 0 | 0 |\n",
    "| 1 | 1 |\n",
    "| 2 | 2 |\n",
    "| 3 | 3 |\n",
    "| 4 | 4 |\n",
    "| 5 | 5 |\n",
    "| 6 | 6 |\n",
    "| 7 | 7 |\n",
    "| 8 | 8 |\n",
    "| 8 | 8 |\n",
    "| 9 | 9 |\n",
    "| A | 10 |\n",
    "| B | 11 |\n",
    "| C | 12 |\n",
    "| D | 13 |\n",
    "| E | 14 |\n",
    "| F | 15 |\n",
    "| 10 | 16 |\n",
    "| 11 | 17 |\n",
    "| 12 | 18 |\n",
    "| 13 | 19 |\n",
    "| 14 | 20 |\n",
    "| 15 | 21 |\n",
    "| 16 | 22 |\n",
    "| 17 | 23 |\n",
    "| 18 | 24 |\n",
    "| 19 | 25 |\n",
    "| 1A | 26 |\n",
    "| 1B | 27 |\n",
    "| 1C | 28 |\n",
    "| 1D | 29 |\n",
    "| 1E | 30 |\n",
    "| 1F | 31 |\n",
    "| 20 | 32 |\n",
    "| 21 | 33 |\n",
    "\n",
    "A partir de maintenant, et pour ne pas générer de confusion, nous utiliserons l'une des conventions en vigueur et indiquerons \"0x\" devant les nombres héxadécimaux pour faire la différence avec les nombres décimaux.\n",
    "\n",
    "Si l'on reprend le tableau que nous avions utilisé pour calculer les nombres décimaux, cela nous donne :\n",
    "\n",
    "| Nombre en base 10 | Nombre en base 16 (hexadécimal) | 16<sup>3</sup>            | 16<sup>2</sup>            | 16<sup>1</sup>            | 16<sup>0</sup>           |\n",
    "|:-----------------:|---------------------------------|---------------------------|---------------------------|---------------------------|--------------------------|\n",
    "|         3         | 0x3                               |                           |                           |                           | 3 * 16<sup>0</sup> = 3   |\n",
    "|         12        | 0xC                               |                           |                           |                           | 12 * 16<sup>0</sup> = 12 |\n",
    "|        425        | 0x1A9                             |                           | 1 * 16<sup>2</sup> = 256  | 10 * 16<sup>1</sup> = 160 | 9 * 16<sup>0</sup> = 9   |\n",
    "|        9807       | 0x264F                            | 2 * 16<sup>3</sup> = 8192 | 6 * 16<sup>2</sup> = 1536 | 4 * 16<sup>1</sup> = 64   | 15 * 16<sup>0</sup> = 15 |\n",
    "\n",
    "Notez bien que les détails des calculs sont réalisés en base décimale.\n",
    "\n",
    "Maintenant, afin d'illustrer nos propos voyons un petit exemple en faisant le chemin inverse. Si l'on tape la lettre \"j\" sur un clavier, qu'est-ce que cela signifie pour un ordinateur ?\n",
    "\n",
    "Le caractère \"j\" est encodé selon un format que l'on appelle ASCII. Pour accéder à la table de correspondance sous windows il suffit d'ouvrir un petit logiciel présent dans tous les systèmes d'exploitation et qui sous windows s'appelle \"table des caractères\". Si on clique sur la lettre \"j\" et qu'on regarde à quel code ce caractère est associé on voit écrit : \"U+006A\" (il faudra peut-être cliquer sur \"affichage avancé\" selon les versions). Cela signifie que le code héxadécimal correspondant à ce caractère est 006A, soit 6A. Comme nous sommes des experts en conversion, nous voyons vite que 6A en décimal vaut:\n",
    "\n",
    "0x6 = 6 * 16<sup>1</sup> soit 96. \n",
    "\n",
    "0xA = 10 * 16<sup>0</sup> soit 10.\n",
    "\n",
    "Donc 0x6A vaut 96 + 10 soit 106 en décimal. Très bien, et en binaire ? Si on le code sur un octet en utilisant l'astuce vue précédemment, cela nous donne :\n",
    "\n",
    "| 128 | 64 | 32 | 16 | 8 | 4 | 2 | 1 | Formule | Résultat en décimal\n",
    "| :-: | :-: | :-: | :-: | :-: | :-: | :-: | :-: | :-: | :-: |\n",
    "| 0 | 1 | 1 | 0 | 1 | 0 | 1 | 0 | 64 + 32 + 8 + 2 | 106 |\n",
    "\n",
    "donc **\"j\" = 01101010** ! A chaque fois que le caractère \"j\" est affiché sur un écran ou stocké dans un fichier, cela veut dire que quelque part dans la mémoire (RAM et/ou disque dur), ce nombre binaire existe, puisque toutes les données stockées dans un ordinateur sont, *in fine* toujours stockées sous forme binaire."
   ]
  },
  {
   "cell_type": "markdown",
   "metadata": {
    "tags": [
     "fr"
    ]
   },
   "source": [
    "# Annexes"
   ]
  },
  {
   "cell_type": "markdown",
   "metadata": {
    "tags": [
     "fr"
    ]
   },
   "source": [
    "Pour ceux que cela intéresserait : voici le code permettant de générer la table de conversion hexadécimal / décimal."
   ]
  },
  {
   "cell_type": "code",
   "execution_count": null,
   "metadata": {
    "tags": [
     "fr"
    ]
   },
   "outputs": [],
   "source": [
    "import pandas as pd\n",
    "\n",
    "pd.DataFrame({str(num):hex(num)[2:].upper() for num in list(range(0,34))}.items(), \\\n",
    "             columns=['Décimal','Hexadécimal']).set_index('Hexadécimal')"
   ]
  }
 ],
 "metadata": {
  "kernelspec": {
   "display_name": "Python 3 (ipykernel)",
   "language": "python",
   "name": "python3"
  },
  "language_info": {
   "codemirror_mode": {
    "name": "ipython",
    "version": 3
   },
   "file_extension": ".py",
   "mimetype": "text/x-python",
   "name": "python",
   "nbconvert_exporter": "python",
   "pygments_lexer": "ipython3",
   "version": "3.11.10"
  },
  "toc-autonumbering": true
 },
 "nbformat": 4,
 "nbformat_minor": 4
}
