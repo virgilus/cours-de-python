{
 "cells": [
  {
   "cell_type": "markdown",
   "id": "fec9abd4-e907-43a8-9558-28a329629bb7",
   "metadata": {},
   "source": [
    "# Entrées/Sorties\n",
    "\n",
    "## Introduction\n",
    "\n",
    "La gestion des entrées/sorties est une compétence essentielle en programmation Python puisqu'un des cas d'usage très répandu de Python consiste à récupérer des fichiers, leur appliquer des transformations et les réexporter."
   ]
  },
  {
   "cell_type": "markdown",
   "id": "24806dff-53d6-49f9-aef8-c59d3d9e3807",
   "metadata": {},
   "source": [
    "## La fonction ```open```\n",
    "\n",
    "Cette fonction est en réalité un alias vers la fonction ```io.open()``` de la librairie ```io``` (input output).\n",
    "\n",
    "La clause ```with``` permet de s'assurer que le fichier n'est plus en écriture lorsqu'on sort de cette clause. C'est une bonne pratique que de l'utiliser. Ouvrons un fichier en mode écriture (```\"w\"``` pour \"write\")."
   ]
  },
  {
   "cell_type": "code",
   "execution_count": null,
   "id": "e941e7cd-afb6-4b33-b614-261116a8578e",
   "metadata": {
    "tags": []
   },
   "outputs": [],
   "source": [
    "lines = [\"Hello everyone \\n\", \"This is a line \\n\", \"And again, a new line! \\n\"]\n",
    " \n",
    "with open(\"myfile.txt\", \"w\") as f:\n",
    "    f.write(\"Hello \\n\")\n",
    "    f.writelines(lines)"
   ]
  },
  {
   "cell_type": "markdown",
   "id": "e4a32ade-a608-4a77-8a9a-98b261871770",
   "metadata": {},
   "source": [
    "## Le module ```io```\n",
    "\n",
    "Le module ```io``` fournit les classes de base pour la gestion des entrées/sorties. Il est utilisé pour lire et écrire des fichiers binaires et textuels. Une partie de ses fonctions sont appelées par le \"built-in\" de Python.\n",
    "\n",
    "La norme d'encodage (*encoding*) est l'encodage le plus commun depuis le début des années 2010. On peut le spécifier pour être sûr que Python l'utilise.\n",
    "\n",
    "L'argument ```'r'``` signifie \"read\"."
   ]
  },
  {
   "cell_type": "code",
   "execution_count": null,
   "id": "48c5c3f2-ca00-4450-a7f6-cd5c2cdc6b95",
   "metadata": {
    "tags": []
   },
   "outputs": [],
   "source": [
    "lines = [\"Hello everyone \\n\", \"This is a line \\n\", \"And again, a new line! \\n\"]\n",
    "\n",
    "with open(\"myfile.txt\", 'w', encoding='utf-8') as f:\n",
    "    f.write(\"Hello \\n\")\n",
    "    f.writelines(lines)\n",
    "    \n",
    "### Now let's read a file\n",
    "\n",
    "with open(\"myfile.txt\", 'r', encoding='utf-8') as f:\n",
    "    content = f.read()\n",
    "    print(content)"
   ]
  },
  {
   "cell_type": "markdown",
   "id": "72e92289-bfda-44bb-b0b7-d2533cf0d529",
   "metadata": {},
   "source": [
    "## Exercice\n",
    "\n",
    "❓ **>>>** Écrivez un programme Python qui demande à l'utilisateur d'entrer son nom et son âge avec la fonction ```input()```, puis écrit ces informations dans un fichier texte nommé `info.txt`. Ensuite, lisez le contenu du fichier et affichez-le à l'écran. Exemple du fichier:\n",
    "\n",
    "```\n",
    "Nom : John\n",
    "Age : 72\n",
    "```"
   ]
  },
  {
   "cell_type": "code",
   "execution_count": null,
   "id": "daa9ea4c-2406-42c8-8e38-33941c6a1950",
   "metadata": {},
   "outputs": [],
   "source": [
    "# Code here!\n"
   ]
  },
  {
   "cell_type": "markdown",
   "id": "e459e1aa-f06a-4dbb-9bf2-f8275886c420",
   "metadata": {},
   "source": [
    "## Module ```csv```\n",
    "\n",
    "Le module ```csv``` permet de lire et d'écrire des fichiers CSV (Comma-Separated Values). Il est toutefois de plus en plus remplacé par la librairie Pandas."
   ]
  },
  {
   "cell_type": "code",
   "execution_count": null,
   "id": "6e332f30-20cf-414d-bc7b-01a60447ac27",
   "metadata": {
    "tags": []
   },
   "outputs": [],
   "source": [
    "import csv\n",
    "\n",
    "# Writing\n",
    "with open('example.csv', 'w', newline='') as f:\n",
    "    writer = csv.writer(f)\n",
    "    writer.writerow(['Name', 'Age', 'City'])\n",
    "    writer.writerow(['Alice', 49, 'Paris'])\n",
    "    writer.writerow(['Bob', 25, 'Lyon'])\n",
    "\n",
    "# Reading\n",
    "with open('example.csv', 'r') as f:\n",
    "    reader = csv.reader(f)\n",
    "    for row in reader:\n",
    "        print(row)"
   ]
  },
  {
   "cell_type": "markdown",
   "id": "edfa7064-cede-4700-bcc3-8317400bea5d",
   "metadata": {},
   "source": [
    "## Utilisation de fichier JSON\n",
    "\n",
    "Le module `json` permet de lire et d'écrire des fichiers JSON (JavaScript Object Notation).\n",
    "\n",
    "La syntaxe entre les dictionnaires et les JSON semble proche, mais elle n'est pas exactement la même.\n",
    "\n",
    "### Comparaison entre JSON et Dictionnaire Python\n",
    "\n",
    "| Caractéristique                                 | JSON                                                                 | Dictionnaire Python                                                 |\n",
    "|-------------------------------------------------|---------------------------------------------------------------------|---------------------------------------------------------------------|\n",
    "| Types de clés                                   | Les clés JSON ne peuvent être que des chaînes de caractères.        | Les clés du dictionnaire peuvent être n'importe quel objet hashable. |\n",
    "| Ordre et répétition des clés                    | Les clés JSON sont ordonnées séquentiellement et peuvent être répétées. | Les clés du dictionnaire ne peuvent pas être répétées et doivent être distinctes. |\n",
    "| Valeur par défaut des clés                      | Les clés JSON ont une valeur par défaut de `undefined`.             | Il n'y a pas de valeur par défaut dans les dictionnaires.           |\n",
    "| Accès aux valeurs                               | Les valeurs dans un fichier JSON sont accessibles en utilisant l'opérateur \".\" (point) ou \"[]\". | L'opérateur de souscription est utilisé pour accéder aux valeurs dans le dictionnaire. Par exemple, si `dict = {'A': '123R', 'B': '678S'}`, on peut récupérer les données en appelant `dict['A']`. |\n",
    "| Guillemets pour les chaînes de caractères       | Pour les objets de type chaîne, nous devons utiliser des guillemets doubles. | Pour les objets de type chaîne, nous pouvons utiliser des guillemets simples ou doubles. |\n",
    "| Type de retour de l'objet                       | En JSON, le type de retour de l'objet est un type d'objet 'string'. | Le type de retour de l'objet est un type d'objet 'dict' dans un dictionnaire. |\n",
    "\n",
    "[source](https://www.geeksforgeeks.org/difference-between-json-and-dictionary-in-python/)\n",
    "\n",
    "### Écriture d'un JSON"
   ]
  },
  {
   "cell_type": "code",
   "execution_count": null,
   "id": "5e365c69-6df0-4aaa-9595-46e041038562",
   "metadata": {
    "tags": []
   },
   "outputs": [],
   "source": [
    "import json\n",
    "\n",
    "data = {\n",
    "    'name': 'Alice',\n",
    "    'age': 30,\n",
    "    'city': 'Paris'\n",
    "}\n",
    "\n",
    "with open('example.json', 'w') as f:\n",
    "    json.dump(data, f)\n",
    "\n",
    "with open('example.json', 'r') as f:\n",
    "    data = json.load(f)\n",
    "    print(data)"
   ]
  },
  {
   "cell_type": "markdown",
   "id": "465b8135-15bb-4f39-9b3d-48742f3ce34e",
   "metadata": {},
   "source": [
    "## Exercice\n",
    "\n",
    "❓ **>>>** Écrivez un programme Python qui lit un fichier JSON dans le dossier \"data\" qui se nomme `persons.json` et transforme son contenu en un fichier CSV nommé `persons.csv`. Le fichier JSON contient une liste de dictionnaires, où chaque dictionnaire représente une ligne du fichier CSV.\n",
    "\n",
    "**Astuces**\n",
    "\n",
    "- La méthode ```csv.DictWriter``` prend un argument \"fieldnames\" afin de connaître le nom des champs.\n",
    "- La méthode ```.writeheader()``` peut être utile pour écrire l'en-tête (*header*)."
   ]
  },
  {
   "cell_type": "code",
   "execution_count": null,
   "id": "0f058cd4-1088-4555-ba72-8a299051d327",
   "metadata": {},
   "outputs": [],
   "source": [
    "import json\n",
    "import csv\n",
    "\n",
    "# Code here!\n"
   ]
  },
  {
   "cell_type": "markdown",
   "id": "cffbdc32-4f58-4330-964c-429527fcbbf6",
   "metadata": {},
   "source": [
    "## Fichiers YAML\n",
    "\n",
    "### Introduction\n",
    "\n",
    "YAML (YAML Ain't Markup Language) est un format de sérialisation de données lisible par un être humain, souvent utilisé pour stocker des configurations et des paramètres. En Python, vous pouvez utiliser la bibliothèque `PyYAML` pour lire et écrire des fichiers YAML.\n",
    "\n",
    "### Installation de PyYAML\n",
    "\n",
    "Pour utiliser YAML en Python, vous devez d'abord installer la bibliothèque `PyYAML`.\n",
    "\n",
    "```sh\n",
    "pip install pyyaml\n",
    "```\n",
    "\n",
    "### Structure d'un fichier YAML\n",
    "\n",
    "Un fichier YAML est un fichier texte qui utilise une syntaxe simple pour représenter des données structurées :\n",
    "\n",
    "```yaml\n",
    "# config.yaml\n",
    "database:\n",
    "  host: localhost\n",
    "  port: 5432\n",
    "  user: admin\n",
    "  password: secret\n",
    "\n",
    "logging:\n",
    "  level: INFO\n",
    "  file: app.log\n",
    "```\n",
    "\n",
    "**>>> Copiez-coller le contenu du fichier dans un nouveau fichier YAML que vous appellerez \"config.yaml\".**\n",
    "\n",
    "### Lire un fichier YAML\n",
    "\n",
    "Pour lire un fichier YAML en Python, vous pouvez utiliser la fonction `yaml.safe_load()` de la bibliothèque `PyYAML`."
   ]
  },
  {
   "cell_type": "code",
   "execution_count": null,
   "id": "26ce0d8f-0c67-4946-85d4-52a4931e8dae",
   "metadata": {},
   "outputs": [],
   "source": [
    "import yaml\n",
    "\n",
    "with open('config.yaml', 'r') as file: # 'r' stands for 'read'\n",
    "    config = yaml.safe_load(file)\n",
    "\n",
    "print(config['database']['host'])  # Output: localhost\n",
    "print(config['database']['port'])  # Output: 5432\n",
    "print(config['logging']['level'])  # Output: INFO\n",
    "print(config['logging']['file'])   # Output: app.log"
   ]
  },
  {
   "cell_type": "markdown",
   "id": "aff0acc2-fb77-48d1-a03e-5afab5cbc4f6",
   "metadata": {},
   "source": [
    "### Écrire un fichier YAML\n",
    "\n",
    "Pour écrire des données dans un fichier YAML, vous pouvez utiliser la fonction `yaml.dump` de la bibliothèque `PyYAML`."
   ]
  },
  {
   "cell_type": "code",
   "execution_count": null,
   "id": "8b19be5f-3c8f-45dd-99e1-41c0912fca3c",
   "metadata": {
    "tags": []
   },
   "outputs": [],
   "source": [
    "import yaml\n",
    "\n",
    "# Dict of parameters\n",
    "config = {\n",
    "    'database': {\n",
    "        'host': 'localhost',\n",
    "        'port': 5432,\n",
    "        'user': 'admin',\n",
    "        'password': 'secret'\n",
    "    },\n",
    "    'logging': {\n",
    "        'level': 'INFO',\n",
    "        'file': 'app.log'\n",
    "    }\n",
    "}\n",
    "\n",
    "# Dumping the parameters in a file\n",
    "with open('config.yaml', 'w') as file:\n",
    "    yaml.dump(config, file)"
   ]
  },
  {
   "cell_type": "markdown",
   "id": "7179ec82-197d-4939-bbb7-23aa35849444",
   "metadata": {},
   "source": [
    "## La sérialisation avec le module `Pickle`\n",
    "\n",
    "Le module `pickle` permet de sérialiser et de désérialiser des objets Python. Pour être sûr que le chargement d'un de ces fichiers soit bien effectué, il faut tenter de le charger dans le même environnement (même version de Python et des librairies)."
   ]
  },
  {
   "cell_type": "code",
   "execution_count": null,
   "id": "fe63f602-0baf-497b-936e-67b844332bb3",
   "metadata": {},
   "outputs": [],
   "source": [
    "import pickle\n",
    "\n",
    "data = {\n",
    "    'name': 'Alice',\n",
    "    'age': 30,\n",
    "    'city': 'Paris'\n",
    "}\n",
    "\n",
    "with open('exemple.pkl', 'wb') as f:\n",
    "    pickle.dump(data, f)\n",
    "\n",
    "with open('exemple.pkl', 'rb') as f:\n",
    "    data = pickle.load(f)\n",
    "    print(data)"
   ]
  },
  {
   "cell_type": "markdown",
   "id": "6b0f0022-64a0-4ec0-8c76-31e474db05e7",
   "metadata": {
    "tags": []
   },
   "source": [
    "## La sérialisation avec le module `Shelve`\n",
    "\n",
    "Le module `shelve` permet de stocker des objets Python dans un fichier de manière persistante mais comme une base de données clé-valeur. Le format de fichier ressemble à du JSON (ou du YAML) qui pourrait stocker des objets Python un peu comme du pickle. Ce format est de moins en moins utilisé car il souffre de son manque de compatibilité avec tout ce qui n'est pas Python."
   ]
  },
  {
   "cell_type": "code",
   "execution_count": null,
   "id": "f684d5a0-e071-4366-a34a-5578892d49b4",
   "metadata": {
    "tags": []
   },
   "outputs": [],
   "source": [
    "import shelve\n",
    "\n",
    "# Écriture dans un fichier Shelve\n",
    "with shelve.open('exemple.db') as db:\n",
    "    db['nom'] = 'Alice'\n",
    "    db['âge'] = 30\n",
    "    db['ville'] = 'Paris'\n",
    "\n",
    "# Lecture d'un fichier Shelve\n",
    "with shelve.open('exemple.db') as db:\n",
    "    print(db['nom'])\n",
    "    print(db['âge'])\n",
    "    print(db['ville'])"
   ]
  }
 ],
 "metadata": {
  "kernelspec": {
   "display_name": "Python 3 (ipykernel)",
   "language": "python",
   "name": "python3"
  },
  "language_info": {
   "codemirror_mode": {
    "name": "ipython",
    "version": 3
   },
   "file_extension": ".py",
   "mimetype": "text/x-python",
   "name": "python",
   "nbconvert_exporter": "python",
   "pygments_lexer": "ipython3",
   "version": "3.11.0"
  }
 },
 "nbformat": 4,
 "nbformat_minor": 5
}
